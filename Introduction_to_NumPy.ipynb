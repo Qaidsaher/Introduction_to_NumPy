{
  "nbformat": 4,
  "nbformat_minor": 0,
  "metadata": {
    "colab": {
      "provenance": [],
      "authorship_tag": "ABX9TyP6vaOKe726c07Y5J+f+RtP",
      "include_colab_link": true
    },
    "kernelspec": {
      "name": "python3",
      "display_name": "Python 3"
    },
    "language_info": {
      "name": "python"
    }
  },
  "cells": [
    {
      "cell_type": "markdown",
      "metadata": {
        "id": "view-in-github",
        "colab_type": "text"
      },
      "source": [
        "<a href=\"https://colab.research.google.com/github/Qaidsaher/Introduction_to_NumPy/blob/main/Introduction_to_NumPy.ipynb\" target=\"_parent\"><img src=\"https://colab.research.google.com/assets/colab-badge.svg\" alt=\"Open In Colab\"/></a>"
      ]
    },
    {
      "cell_type": "markdown",
      "source": [
        "# Introduction to NumPy\n",
        "\n",
        "## What is NumPy?\n",
        "\n",
        "NumPy (Numerical Python) is a fundamental library for scientific computing in Python. It provides support for large, multi-dimensional arrays and matrices, along with a collection of high-level mathematical functions to operate on these arrays. At its core, NumPy is about efficient array processing.\n",
        "\n",
        "## Importance in Scientific Computing\n",
        "\n",
        "NumPy is crucial for scientific computing in Python for several key reasons:\n",
        "\n",
        "*   **Performance:** NumPy arrays are implemented in C, making operations on them significantly faster than operations on standard Python lists, especially for large datasets. This performance is critical for computationally intensive tasks in science, engineering, and data analysis.\n",
        "*   **Array-oriented Programming:** NumPy allows you to express many types of data processing as concise array expressions. This avoids the need for explicit looping in Python, which can be slow. This approach is often referred to as vectorization.\n",
        "*   **Foundation for other Libraries:** Many other essential scientific and data analysis libraries in Python, such as SciPy, pandas, scikit-learn, and matplotlib, are built on top of NumPy. Understanding NumPy is therefore a prerequisite for effectively using these libraries.\n",
        "*   **Mathematical Functions:** NumPy provides a vast collection of mathematical functions that operate efficiently on arrays, including linear algebra, Fourier transforms, and random number capabilities.\n",
        "\n",
        "## Installation\n",
        "\n",
        "NumPy can be easily installed using pip, the standard package installer for Python. Open your terminal or command prompt and run the following command:\n",
        "\n",
        "```bash\n",
        "pip install numpy\n",
        "```\n",
        "\n",
        "This command will download and install the latest version of NumPy and its dependencies."
      ],
      "metadata": {
        "id": "f4_Jmlwx2MWy"
      }
    },
    {
      "cell_type": "markdown",
      "source": [
        "# Author: Saher Qaid\n",
        "\n",
        "**Contact Information:**\n",
        "*   **Location:** Ibb, Yemen\n",
        "*   **Email:** saherqaid2020@gmail.com\n",
        "*   **Phone:** +967712238264\n",
        "*   **Website:** [saherqaid.com](saherqaid.com)\n",
        "*   **LinkedIn:** [linkedin.com/in/saher-qaid-470735261/](linkedin.com/in/saher-qaid-470735261/)\n",
        "*   **GitHub:** [github.com/Qaidsaher](github.com/Qaidsaher)"
      ],
      "metadata": {
        "id": "5jghqkME2lly"
      }
    },
    {
      "cell_type": "markdown",
      "metadata": {
        "id": "9c12f855"
      },
      "source": [
        "## Numpy arrays\n",
        "\n",
        "### Subtask:\n",
        "Introduce the `ndarray` object, its properties (shape, dtype, etc.), and how to create arrays from Python lists, tuples, or using built-in NumPy functions.\n"
      ]
    },
    {
      "cell_type": "markdown",
      "metadata": {
        "id": "9a1bb847"
      },
      "source": [
        "**Reasoning**:\n",
        "Create a markdown cell to explain the `ndarray` object and its properties as requested in the first instruction of the subtask.\n",
        "\n"
      ]
    },
    {
      "cell_type": "code",
      "metadata": {
        "colab": {
          "base_uri": "https://localhost:8080/",
          "height": 207
        },
        "id": "66e05066",
        "outputId": "d54e8e7a-e991-495a-c002-760f5c709568"
      },
      "source": [
        "%%markdown\n",
        "## The `ndarray` Object\n",
        "\n",
        "The core of NumPy is the `ndarray` object. This is a multi-dimensional array of elements all of the same type. It's a table of elements (usually numbers), all of the same type, indexed by a tuple of non-negative integers. In NumPy, dimensions are called *axes*.\n",
        "\n",
        "Key properties of an `ndarray`:\n",
        "\n",
        "*   **`shape`**: A tuple of integers indicating the size of the array in each dimension. For a matrix with *n* rows and *m* columns, shape will be `(n, m)`.\n",
        "*   **`dtype`**: An object describing the data type of the elements in the array. Common dtypes include `int64`, `float64`, `bool`, etc.\n",
        "*   **`size`**: The total number of elements in the array. This is equal to the product of the elements of the `shape`.\n",
        "*   **`ndim`**: The number of dimensions (axes) of the array.\n"
      ],
      "execution_count": 2,
      "outputs": [
        {
          "output_type": "display_data",
          "data": {
            "text/plain": [
              "<IPython.core.display.Markdown object>"
            ],
            "text/markdown": "## The `ndarray` Object\n\nThe core of NumPy is the `ndarray` object. This is a multi-dimensional array of elements all of the same type. It's a table of elements (usually numbers), all of the same type, indexed by a tuple of non-negative integers. In NumPy, dimensions are called *axes*.\n\nKey properties of an `ndarray`:\n\n*   **`shape`**: A tuple of integers indicating the size of the array in each dimension. For a matrix with *n* rows and *m* columns, shape will be `(n, m)`.\n*   **`dtype`**: An object describing the data type of the elements in the array. Common dtypes include `int64`, `float64`, `bool`, etc.\n*   **`size`**: The total number of elements in the array. This is equal to the product of the elements of the `shape`.\n*   **`ndim`**: The number of dimensions (axes) of the array.\n"
          },
          "metadata": {}
        }
      ]
    },
    {
      "cell_type": "markdown",
      "metadata": {
        "id": "68d64551"
      },
      "source": [
        "**Reasoning**:\n",
        "Demonstrate creating NumPy arrays from Python lists and tuples as requested in the second instruction of the subtask.\n",
        "\n"
      ]
    },
    {
      "cell_type": "code",
      "metadata": {
        "colab": {
          "base_uri": "https://localhost:8080/"
        },
        "id": "a1fda575",
        "outputId": "a6474fef-9813-48af-fdc1-b184467f5b74"
      },
      "source": [
        "import numpy as np\n",
        "\n",
        "# Create a NumPy array from a Python list\n",
        "list_array = np.array([1, 2, 3, 4, 5])\n",
        "print(\"Array from list:\")\n",
        "print(list_array)\n",
        "print(\"Shape:\", list_array.shape)\n",
        "print(\"Dtype:\", list_array.dtype)\n",
        "print(\"Size:\", list_array.size)\n",
        "print(\"Ndim:\", list_array.ndim)\n",
        "\n",
        "print(\"-\" * 20)\n",
        "\n",
        "# Create a 2D NumPy array from a list of lists\n",
        "list_of_lists_array = np.array([[1, 2, 3], [4, 5, 6]])\n",
        "print(\"2D Array from list of lists:\")\n",
        "print(list_of_lists_array)\n",
        "print(\"Shape:\", list_of_lists_array.shape)\n",
        "print(\"Dtype:\", list_of_lists_array.dtype)\n",
        "print(\"Size:\", list_of_lists_array.size)\n",
        "print(\"Ndim:\", list_of_lists_array.ndim)\n",
        "\n",
        "print(\"-\" * 20)\n",
        "\n",
        "# Create a NumPy array from a Python tuple\n",
        "tuple_array = np.array((10, 20, 30))\n",
        "print(\"Array from tuple:\")\n",
        "print(tuple_array)\n",
        "print(\"Shape:\", tuple_array.shape)\n",
        "print(\"Dtype:\", tuple_array.dtype)\n",
        "print(\"Size:\", tuple_array.size)\n",
        "print(\"Ndim:\", tuple_array.ndim)\n",
        "\n",
        "print(\"-\" * 20)\n",
        "\n",
        "# Create a 2D NumPy array from a tuple of tuples\n",
        "tuple_of_tuples_array = np.array(((10, 20), (30, 40), (50, 60)))\n",
        "print(\"2D Array from tuple of tuples:\")\n",
        "print(tuple_of_tuples_array)\n",
        "print(\"Shape:\", tuple_of_tuples_array.shape)\n",
        "print(\"Dtype:\", tuple_of_tuples_array.dtype)\n",
        "print(\"Size:\", tuple_of_tuples_array.size)\n",
        "print(\"Ndim:\", tuple_of_tuples_array.ndim)"
      ],
      "execution_count": 3,
      "outputs": [
        {
          "output_type": "stream",
          "name": "stdout",
          "text": [
            "Array from list:\n",
            "[1 2 3 4 5]\n",
            "Shape: (5,)\n",
            "Dtype: int64\n",
            "Size: 5\n",
            "Ndim: 1\n",
            "--------------------\n",
            "2D Array from list of lists:\n",
            "[[1 2 3]\n",
            " [4 5 6]]\n",
            "Shape: (2, 3)\n",
            "Dtype: int64\n",
            "Size: 6\n",
            "Ndim: 2\n",
            "--------------------\n",
            "Array from tuple:\n",
            "[10 20 30]\n",
            "Shape: (3,)\n",
            "Dtype: int64\n",
            "Size: 3\n",
            "Ndim: 1\n",
            "--------------------\n",
            "2D Array from tuple of tuples:\n",
            "[[10 20]\n",
            " [30 40]\n",
            " [50 60]]\n",
            "Shape: (3, 2)\n",
            "Dtype: int64\n",
            "Size: 6\n",
            "Ndim: 2\n"
          ]
        }
      ]
    },
    {
      "cell_type": "markdown",
      "metadata": {
        "id": "1057c671"
      },
      "source": [
        "**Reasoning**:\n",
        "Add a markdown cell to explain the `np.zeros()` function.\n",
        "\n"
      ]
    },
    {
      "cell_type": "code",
      "metadata": {
        "colab": {
          "base_uri": "https://localhost:8080/",
          "height": 165
        },
        "id": "b3b2d991",
        "outputId": "7c4b4c31-b170-49fd-fff1-45a872f67050"
      },
      "source": [
        "%%markdown\n",
        "### Creating Arrays with `np.zeros()`\n",
        "\n",
        "The `np.zeros()` function creates a new array of a given shape and type, filled with zeros. This is useful for initializing arrays where you plan to fill in values later.\n",
        "\n",
        "The basic syntax is `np.zeros(shape, dtype=float, order='C')`.\n",
        "\n",
        "*   `shape`: The shape of the new array. Can be an integer (for a 1D array) or a tuple of integers.\n",
        "*   `dtype`: The desired data type for the array. Defaults to `float64`.\n",
        "*   `order`: Whether to store multidimensional data in row-major (C-style) or column-major (Fortran-style) order in memory. Defaults to 'C'.\n"
      ],
      "execution_count": 4,
      "outputs": [
        {
          "output_type": "display_data",
          "data": {
            "text/plain": [
              "<IPython.core.display.Markdown object>"
            ],
            "text/markdown": "### Creating Arrays with `np.zeros()`\n\nThe `np.zeros()` function creates a new array of a given shape and type, filled with zeros. This is useful for initializing arrays where you plan to fill in values later.\n\nThe basic syntax is `np.zeros(shape, dtype=float, order='C')`.\n\n*   `shape`: The shape of the new array. Can be an integer (for a 1D array) or a tuple of integers.\n*   `dtype`: The desired data type for the array. Defaults to `float64`.\n*   `order`: Whether to store multidimensional data in row-major (C-style) or column-major (Fortran-style) order in memory. Defaults to 'C'.\n"
          },
          "metadata": {}
        }
      ]
    },
    {
      "cell_type": "markdown",
      "metadata": {
        "id": "83652fd1"
      },
      "source": [
        "**Reasoning**:\n",
        "Demonstrate creating arrays using `np.zeros()`, `np.ones()`, `np.full()`, `np.arange()`, and `np.linspace()` as requested in the third instruction of the subtask, and add markdown explanations for each.\n",
        "\n"
      ]
    },
    {
      "cell_type": "code",
      "metadata": {
        "colab": {
          "base_uri": "https://localhost:8080/"
        },
        "id": "83cf50cb",
        "outputId": "f2772f48-1326-44d2-9cea-4d773d9ac574"
      },
      "source": [
        "# Demonstrate np.zeros()\n",
        "zeros_array = np.zeros((2, 3))\n",
        "print(\"Array of zeros (float):\")\n",
        "print(zeros_array)\n",
        "\n",
        "zeros_int_array = np.zeros(4, dtype=int)\n",
        "print(\"\\nArray of zeros (int):\")\n",
        "print(zeros_int_array)\n"
      ],
      "execution_count": 5,
      "outputs": [
        {
          "output_type": "stream",
          "name": "stdout",
          "text": [
            "Array of zeros (float):\n",
            "[[0. 0. 0.]\n",
            " [0. 0. 0.]]\n",
            "\n",
            "Array of zeros (int):\n",
            "[0 0 0 0]\n"
          ]
        }
      ]
    },
    {
      "cell_type": "markdown",
      "metadata": {
        "id": "621fd245"
      },
      "source": [
        "**Reasoning**:\n",
        "Add a markdown cell to explain the `np.ones()` function.\n",
        "\n"
      ]
    },
    {
      "cell_type": "code",
      "metadata": {
        "colab": {
          "base_uri": "https://localhost:8080/",
          "height": 165
        },
        "id": "88617336",
        "outputId": "69c94abd-d7a1-4d31-ba93-2dc7d2b4e562"
      },
      "source": [
        "%%markdown\n",
        "### Creating Arrays with `np.ones()`\n",
        "\n",
        "Similar to `np.zeros()`, the `np.ones()` function creates a new array of a given shape and type, filled with ones.\n",
        "\n",
        "The basic syntax is `np.ones(shape, dtype=float, order='C')`.\n",
        "\n",
        "*   `shape`: The shape of the new array.\n",
        "*   `dtype`: The desired data type for the array. Defaults to `float64`.\n",
        "*   `order`: Memory layout ('C' or 'F').\n"
      ],
      "execution_count": 6,
      "outputs": [
        {
          "output_type": "display_data",
          "data": {
            "text/plain": [
              "<IPython.core.display.Markdown object>"
            ],
            "text/markdown": "### Creating Arrays with `np.ones()`\n\nSimilar to `np.zeros()`, the `np.ones()` function creates a new array of a given shape and type, filled with ones.\n\nThe basic syntax is `np.ones(shape, dtype=float, order='C')`.\n\n*   `shape`: The shape of the new array.\n*   `dtype`: The desired data type for the array. Defaults to `float64`.\n*   `order`: Memory layout ('C' or 'F').\n"
          },
          "metadata": {}
        }
      ]
    },
    {
      "cell_type": "markdown",
      "metadata": {
        "id": "f63c0938"
      },
      "source": [
        "**Reasoning**:\n",
        "Demonstrate creating arrays using `np.ones()` and add a markdown explanation for `np.full()`.\n",
        "\n"
      ]
    },
    {
      "cell_type": "code",
      "metadata": {
        "colab": {
          "base_uri": "https://localhost:8080/"
        },
        "id": "0430d665",
        "outputId": "75c6f7c4-609e-4b3f-b067-b9cd3a6994f3"
      },
      "source": [
        "# Demonstrate np.ones()\n",
        "ones_array = np.ones((2, 3))\n",
        "print(\"Array of ones (float):\")\n",
        "print(ones_array)\n",
        "\n",
        "ones_int_array = np.ones(4, dtype=int)\n",
        "print(\"\\nArray of ones (int):\")\n",
        "print(ones_int_array)"
      ],
      "execution_count": 7,
      "outputs": [
        {
          "output_type": "stream",
          "name": "stdout",
          "text": [
            "Array of ones (float):\n",
            "[[1. 1. 1.]\n",
            " [1. 1. 1.]]\n",
            "\n",
            "Array of ones (int):\n",
            "[1 1 1 1]\n"
          ]
        }
      ]
    },
    {
      "cell_type": "markdown",
      "metadata": {
        "id": "fce13945"
      },
      "source": [
        "**Reasoning**:\n",
        "Add a markdown cell to explain the `np.full()` function.\n",
        "\n"
      ]
    },
    {
      "cell_type": "code",
      "metadata": {
        "colab": {
          "base_uri": "https://localhost:8080/",
          "height": 183
        },
        "id": "e1a86b8c",
        "outputId": "a8765b2f-aba1-41ee-e313-0973f1713146"
      },
      "source": [
        "%%markdown\n",
        "### Creating Arrays with `np.full()`\n",
        "\n",
        "The `np.full()` function creates a new array of a given shape and type, filled with a specified fill value.\n",
        "\n",
        "The basic syntax is `np.full(shape, fill_value, dtype=None, order='C')`.\n",
        "\n",
        "*   `shape`: The shape of the new array.\n",
        "*   `fill_value`: The value to fill the array with.\n",
        "*   `dtype`: The desired data type for the array. If None, the dtype is inferred from `fill_value`.\n",
        "*   `order`: Memory layout ('C' or 'F').\n"
      ],
      "execution_count": 8,
      "outputs": [
        {
          "output_type": "display_data",
          "data": {
            "text/plain": [
              "<IPython.core.display.Markdown object>"
            ],
            "text/markdown": "### Creating Arrays with `np.full()`\n\nThe `np.full()` function creates a new array of a given shape and type, filled with a specified fill value.\n\nThe basic syntax is `np.full(shape, fill_value, dtype=None, order='C')`.\n\n*   `shape`: The shape of the new array.\n*   `fill_value`: The value to fill the array with.\n*   `dtype`: The desired data type for the array. If None, the dtype is inferred from `fill_value`.\n*   `order`: Memory layout ('C' or 'F').\n"
          },
          "metadata": {}
        }
      ]
    },
    {
      "cell_type": "markdown",
      "metadata": {
        "id": "1e70a6ca"
      },
      "source": [
        "**Reasoning**:\n",
        "Demonstrate creating arrays using `np.full()` and add a markdown explanation for `np.arange()`.\n",
        "\n"
      ]
    },
    {
      "cell_type": "code",
      "metadata": {
        "colab": {
          "base_uri": "https://localhost:8080/"
        },
        "id": "abc6c7fc",
        "outputId": "28603f7f-534d-4d4f-a803-7741abb2fb17"
      },
      "source": [
        "# Demonstrate np.full()\n",
        "full_array = np.full((2, 2), 7)\n",
        "print(\"Array filled with 7:\")\n",
        "print(full_array)\n",
        "\n",
        "full_string_array = np.full((1, 3), 'hello')\n",
        "print(\"\\nArray filled with 'hello':\")\n",
        "print(full_string_array)"
      ],
      "execution_count": 9,
      "outputs": [
        {
          "output_type": "stream",
          "name": "stdout",
          "text": [
            "Array filled with 7:\n",
            "[[7 7]\n",
            " [7 7]]\n",
            "\n",
            "Array filled with 'hello':\n",
            "[['hello' 'hello' 'hello']]\n"
          ]
        }
      ]
    },
    {
      "cell_type": "markdown",
      "metadata": {
        "id": "88bc34e5"
      },
      "source": [
        "## Numpy arrays\n",
        "\n",
        "### Subtask:\n",
        "Introduce the `ndarray` object, its properties (shape, dtype, etc.), and how to create arrays from Python lists, tuples, or using built-in NumPy functions.\n"
      ]
    },
    {
      "cell_type": "markdown",
      "metadata": {
        "id": "1a0bf79c"
      },
      "source": [
        "**Reasoning**:\n",
        "Add a markdown cell explaining the `np.arange()` function, its purpose, basic syntax, and parameters as per the instructions.\n",
        "\n"
      ]
    },
    {
      "cell_type": "code",
      "metadata": {
        "colab": {
          "base_uri": "https://localhost:8080/",
          "height": 200
        },
        "id": "4025070f",
        "outputId": "c934fd09-33a5-4c95-cdde-395666fdca3d"
      },
      "source": [
        "%%markdown\n",
        "### Creating Arrays with `np.arange()`\n",
        "\n",
        "The `np.arange()` function is used to create arrays with regularly incrementing values within a given interval. It's similar to Python's built-in `range()` function but returns an `ndarray` instead of a list.\n",
        "\n",
        "The basic syntax is `np.arange([start,] stop[, step,], dtype=None)`.\n",
        "\n",
        "*   `start`: The starting value of the sequence (inclusive). If omitted, the default is 0.\n",
        "*   `stop`: The end value of the sequence (exclusive). The sequence will stop before this value.\n",
        "*   `step`: The interval between values. If omitted, the default is 1.\n",
        "*   `dtype`: The data type of the output array. If omitted, the dtype is inferred from the input values."
      ],
      "execution_count": 10,
      "outputs": [
        {
          "output_type": "display_data",
          "data": {
            "text/plain": [
              "<IPython.core.display.Markdown object>"
            ],
            "text/markdown": "### Creating Arrays with `np.arange()`\n\nThe `np.arange()` function is used to create arrays with regularly incrementing values within a given interval. It's similar to Python's built-in `range()` function but returns an `ndarray` instead of a list.\n\nThe basic syntax is `np.arange([start,] stop[, step,], dtype=None)`.\n\n*   `start`: The starting value of the sequence (inclusive). If omitted, the default is 0.\n*   `stop`: The end value of the sequence (exclusive). The sequence will stop before this value.\n*   `step`: The interval between values. If omitted, the default is 1.\n*   `dtype`: The data type of the output array. If omitted, the dtype is inferred from the input values.\n"
          },
          "metadata": {}
        }
      ]
    },
    {
      "cell_type": "markdown",
      "metadata": {
        "id": "dc231d3a"
      },
      "source": [
        "**Reasoning**:\n",
        "Add a code cell to demonstrate the `np.arange()` function with different start, stop, and step values, and also specify a dtype, as requested in the instructions.\n",
        "\n"
      ]
    },
    {
      "cell_type": "code",
      "metadata": {
        "colab": {
          "base_uri": "https://localhost:8080/"
        },
        "id": "ffb7bdb1",
        "outputId": "f8a1122e-9521-4a9d-c0e3-afda52196990"
      },
      "source": [
        "# Demonstrate np.arange()\n",
        "arange_default = np.arange(10) # start=0, step=1\n",
        "print(\"np.arange(10):\", arange_default)\n",
        "\n",
        "arange_start_stop = np.arange(2, 10) # start=2, step=1\n",
        "print(\"\\nnp.arange(2, 10):\", arange_start_stop)\n",
        "\n",
        "arange_start_stop_step = np.arange(1, 10, 2) # start=1, stop=10, step=2\n",
        "print(\"\\nnp.arange(1, 10, 2):\", arange_start_stop_step)\n",
        "\n",
        "arange_float_step = np.arange(0, 1, 0.1) # start=0, stop=1, step=0.1\n",
        "print(\"\\nnp.arange(0, 1, 0.1):\", arange_float_step)\n",
        "\n",
        "arange_dtype = np.arange(5, dtype=float) # start=0, stop=5, step=1, dtype=float\n",
        "print(\"\\nnp.arange(5, dtype=float):\", arange_dtype)"
      ],
      "execution_count": 11,
      "outputs": [
        {
          "output_type": "stream",
          "name": "stdout",
          "text": [
            "np.arange(10): [0 1 2 3 4 5 6 7 8 9]\n",
            "\n",
            "np.arange(2, 10): [2 3 4 5 6 7 8 9]\n",
            "\n",
            "np.arange(1, 10, 2): [1 3 5 7 9]\n",
            "\n",
            "np.arange(0, 1, 0.1): [0.  0.1 0.2 0.3 0.4 0.5 0.6 0.7 0.8 0.9]\n",
            "\n",
            "np.arange(5, dtype=float): [0. 1. 2. 3. 4.]\n"
          ]
        }
      ]
    },
    {
      "cell_type": "markdown",
      "metadata": {
        "id": "2b6ad038"
      },
      "source": [
        "**Reasoning**:\n",
        "Add a markdown cell explaining the `np.linspace()` function, its purpose, basic syntax, and parameters as per the instructions.\n",
        "\n"
      ]
    },
    {
      "cell_type": "code",
      "metadata": {
        "colab": {
          "base_uri": "https://localhost:8080/",
          "height": 235
        },
        "id": "d72a0403",
        "outputId": "d1f80ffd-f6a1-4af8-bb85-42eb40aa255a"
      },
      "source": [
        "%%markdown\n",
        "### Creating Arrays with `np.linspace()`\n",
        "\n",
        "The `np.linspace()` function is used to create arrays with a specified number of samples, evenly spaced, over a closed interval. This is particularly useful when you need a specific number of points between a start and end value.\n",
        "\n",
        "The basic syntax is `np.linspace(start, stop, num=50, endpoint=True, retstep=False, dtype=None)`.\n",
        "\n",
        "*   `start`: The starting value of the sequence (inclusive).\n",
        "*   `stop`: The end value of the sequence.\n",
        "*   `num`: The number of samples to generate. Defaults to 50.\n",
        "*   `endpoint`: If True (default), `stop` is the last sample. If False, `stop` is excluded.\n",
        "*   `retstep`: If True, return (`samples`, `step`), where `step` is the calculated step size.\n",
        "*   `dtype`: The data type of the output array. If omitted, the dtype is inferred."
      ],
      "execution_count": 12,
      "outputs": [
        {
          "output_type": "display_data",
          "data": {
            "text/plain": [
              "<IPython.core.display.Markdown object>"
            ],
            "text/markdown": "### Creating Arrays with `np.linspace()`\n\nThe `np.linspace()` function is used to create arrays with a specified number of samples, evenly spaced, over a closed interval. This is particularly useful when you need a specific number of points between a start and end value.\n\nThe basic syntax is `np.linspace(start, stop, num=50, endpoint=True, retstep=False, dtype=None)`.\n\n*   `start`: The starting value of the sequence (inclusive).\n*   `stop`: The end value of the sequence.\n*   `num`: The number of samples to generate. Defaults to 50.\n*   `endpoint`: If True (default), `stop` is the last sample. If False, `stop` is excluded.\n*   `retstep`: If True, return (`samples`, `step`), where `step` is the calculated step size.\n*   `dtype`: The data type of the output array. If omitted, the dtype is inferred.\n"
          },
          "metadata": {}
        }
      ]
    },
    {
      "cell_type": "markdown",
      "metadata": {
        "id": "abb30ce6"
      },
      "source": [
        "**Reasoning**:\n",
        "Add a code cell to demonstrate the `np.linspace()` function with different numbers of samples and demonstrate the effect of the `endpoint` parameter, as requested in the instructions.\n",
        "\n"
      ]
    },
    {
      "cell_type": "code",
      "metadata": {
        "colab": {
          "base_uri": "https://localhost:8080/"
        },
        "id": "6f98009c",
        "outputId": "d53db32f-417b-476f-92dc-1c3750961652"
      },
      "source": [
        "# Demonstrate np.linspace()\n",
        "linspace_default = np.linspace(0, 10, 5) # 5 samples between 0 and 10, inclusive\n",
        "print(\"np.linspace(0, 10, 5):\", linspace_default)\n",
        "\n",
        "linspace_num = np.linspace(0, 10, 11) # 11 samples between 0 and 10, inclusive\n",
        "print(\"\\nnp.linspace(0, 10, 11):\", linspace_num)\n",
        "\n",
        "linspace_no_endpoint = np.linspace(0, 10, 5, endpoint=False) # 5 samples between 0 and 10, exclusive of 10\n",
        "print(\"\\nnp.linspace(0, 10, 5, endpoint=False):\", linspace_no_endpoint)\n",
        "\n",
        "linspace_retstep = np.linspace(0, 10, 5, retstep=True) # return samples and step size\n",
        "print(\"\\nnp.linspace(0, 10, 5, retstep=True):\", linspace_retstep)"
      ],
      "execution_count": 13,
      "outputs": [
        {
          "output_type": "stream",
          "name": "stdout",
          "text": [
            "np.linspace(0, 10, 5): [ 0.   2.5  5.   7.5 10. ]\n",
            "\n",
            "np.linspace(0, 10, 11): [ 0.  1.  2.  3.  4.  5.  6.  7.  8.  9. 10.]\n",
            "\n",
            "np.linspace(0, 10, 5, endpoint=False): [0. 2. 4. 6. 8.]\n",
            "\n",
            "np.linspace(0, 10, 5, retstep=True): (array([ 0. ,  2.5,  5. ,  7.5, 10. ]), np.float64(2.5))\n"
          ]
        }
      ]
    },
    {
      "cell_type": "markdown",
      "metadata": {
        "id": "3ad8b4cd"
      },
      "source": [
        "## Array indexing and slicing\n",
        "\n",
        "### Subtask:\n",
        "Explain how to access and modify elements in NumPy arrays using indexing and slicing.\n"
      ]
    },
    {
      "cell_type": "markdown",
      "metadata": {
        "id": "0dfcf4bc"
      },
      "source": [
        "**Reasoning**:\n",
        "Add a markdown cell with the heading \"Array Indexing and Slicing\" and explanations for basic integer indexing, slicing, boolean indexing, and fancy indexing, including examples for each.\n",
        "\n"
      ]
    },
    {
      "cell_type": "code",
      "metadata": {
        "colab": {
          "base_uri": "https://localhost:8080/",
          "height": 1000
        },
        "id": "54f89cc2",
        "outputId": "24e678be-6ca2-4521-d2e2-9b3c12fcaabe"
      },
      "source": [
        "%%markdown\n",
        "## Array Indexing and Slicing\n",
        "\n",
        "NumPy arrays support a variety of methods for accessing and modifying elements, similar to Python lists, but with extensions for multi-dimensional arrays.\n",
        "\n",
        "### Integer Indexing\n",
        "\n",
        "Individual elements in a NumPy array can be accessed using zero-based integer indexing.\n",
        "\n",
        "*   **1D Arrays:** Access elements using a single index inside square brackets `[]`.\n",
        "\n",
        "    ```python\n",
        "    import numpy as np\n",
        "\n",
        "    arr_1d = np.array([10, 20, 30, 40, 50])\n",
        "    # Access the element at index 2\n",
        "    element = arr_1d[2] # element will be 30\n",
        "    ```\n",
        "\n",
        "*   **Multi-dimensional Arrays:** Access elements using a comma-separated tuple of indices, one for each dimension, inside square brackets `[]`. The first index corresponds to the first dimension (rows), the second index to the second dimension (columns), and so on.\n",
        "\n",
        "    ```python\n",
        "    arr_2d = np.array([[1, 2, 3], [4, 5, 6], [7, 8, 9]])\n",
        "    # Access the element at row 1, column 2\n",
        "    element = arr_2d[1, 2] # element will be 6\n",
        "    ```\n",
        "\n",
        "### Array Slicing\n",
        "\n",
        "Slicing allows you to extract sub-arrays (views) from an array. The syntax is similar to Python lists: `[start:stop:step]`.\n",
        "\n",
        "*   `start`: The index of the first element to include (inclusive). If omitted, defaults to 0.\n",
        "*   `stop`: The index of the last element to include (exclusive). If omitted, defaults to the end of the dimension.\n",
        "*   `step`: The step size between elements. If omitted, defaults to 1.\n",
        "\n",
        "*   **1D Arrays:** Apply slicing directly to the array.\n",
        "\n",
        "    ```python\n",
        "    arr_1d = np.array([10, 20, 30, 40, 50])\n",
        "    # Slice from index 1 up to (but not including) index 4\n",
        "    subset = arr_1d[1:4] # subset will be [20, 30, 40]\n",
        "\n",
        "    # Slice with step\n",
        "    subset_with_step = arr_1d[::2] # subset_with_step will be [10, 30, 50]\n",
        "    ```\n",
        "\n",
        "*   **Multi-dimensional Arrays:** Apply slicing to each dimension separated by commas.\n",
        "\n",
        "    ```python\n",
        "    arr_2d = np.array([[1, 2, 3], [4, 5, 6], [7, 8, 9]])\n",
        "    # Slice rows from index 0 up to (but not including) index 2, and all columns\n",
        "    subset_rows = arr_2d[0:2, :] # subset_rows will be [[1, 2, 3], [4, 5, 6]]\n",
        "\n",
        "    # Slice all rows, and columns from index 1 up to (but not including) index 3\n",
        "    subset_cols = arr_2d[:, 1:3] # subset_cols will be [[2, 3], [5, 6], [8, 9]]\n",
        "\n",
        "    # Slice rows from index 1 onwards, and columns from index 0 up to (but not including) index 2\n",
        "    subset_both = arr_2d[1:, :2] # subset_both will be [[4, 5], [7, 8]]\n",
        "    ```\n",
        "\n",
        "### Boolean Indexing\n",
        "\n",
        "Boolean indexing (also known as masking) allows you to select elements from an array based on a boolean condition. The condition is applied element-wise to the array, resulting in a boolean array of the same shape. This boolean array is then used to select elements from the original array where the boolean array is `True`.\n",
        "python\n",
        "arr_1d = np.array([10, 20, 30, 40, 50])\n",
        "# Select elements greater than 30\n",
        "mask = arr_1d > 30 # mask will be [False, False, False,  True,  True]\n",
        "selected_elements = arr_1d[mask] # selected_elements will be [40, 50]\n",
        "\n",
        "# This can be done more concisely:\n",
        "selected_elements_concise = arr_1d[arr_1d > 30] # selected_elements_concise will be [40, 50]\n",
        "\n",
        "# Boolean indexing with 2D arrays\n",
        "arr_2d = np.array([[1, 2, 3], [4, 5, 6], [7, 8, 9]])\n",
        "# Select elements greater than 5\n",
        "mask_2d = arr_2d > 5 # mask_2d will be [[False False False], [False False  True], [ True  True  True]]\n",
        "selected_elements_2d = arr_2d[mask_2d] # selected_elements_2d will be [6, 7, 8, 9]\n",
        "\n",
        "### Fancy Indexing\n",
        "\n",
        "Fancy indexing allows you to select elements or rows/columns using an array of indices. This is useful when you need to select non-contiguous or repeated elements.\n",
        "python\n",
        "arr_1d = np.array([10, 20, 30, 40, 50])\n",
        "# Select elements at indices 0, 2, and 4\n",
        "indices = np.array([0, 2, 4])\n",
        "selected_elements = arr_1d[indices] # selected_elements will be [10, 30, 50]\n",
        "\n",
        "# Fancy indexing with 2D arrays (selecting rows)\n",
        "arr_2d = np.array([[1, 2, 3], [4, 5, 6], [7, 8, 9]])\n",
        "# Select rows at indices 0 and 2\n",
        "row_indices = np.array([0, 2])\n",
        "selected_rows = arr_2d[row_indices] # selected_rows will be [[1, 2, 3], [7, 8, 9]]\n",
        "\n",
        "# Fancy indexing with 2D arrays (selecting columns)\n",
        "col_indices = np.array([1, 0]) # Note the order matters\n",
        "selected_cols = arr_2d[:, col_indices] # selected_cols will be [[2, 1], [5, 4], [8, 7]]\n",
        "\n",
        "# Fancy indexing for selecting specific elements (requires a pair of index arrays)\n",
        "row_indices_specific = np.array([0, 1, 2])\n",
        "col_indices_specific = np.array([0, 1, 2])\n",
        "# Select elements at (0, 0), (1, 1), and (2, 2)\n",
        "selected_specific = arr_2d[row_indices_specific, col_indices_specific] # selected_specific will be [1, 5, 9]"
      ],
      "execution_count": 14,
      "outputs": [
        {
          "output_type": "display_data",
          "data": {
            "text/plain": [
              "<IPython.core.display.Markdown object>"
            ],
            "text/markdown": "## Array Indexing and Slicing\n\nNumPy arrays support a variety of methods for accessing and modifying elements, similar to Python lists, but with extensions for multi-dimensional arrays.\n\n### Integer Indexing\n\nIndividual elements in a NumPy array can be accessed using zero-based integer indexing.\n\n*   **1D Arrays:** Access elements using a single index inside square brackets `[]`.\n\n    ```python\n    import numpy as np\n\n    arr_1d = np.array([10, 20, 30, 40, 50])\n    # Access the element at index 2\n    element = arr_1d[2] # element will be 30\n    ```\n\n*   **Multi-dimensional Arrays:** Access elements using a comma-separated tuple of indices, one for each dimension, inside square brackets `[]`. The first index corresponds to the first dimension (rows), the second index to the second dimension (columns), and so on.\n\n    ```python\n    arr_2d = np.array([[1, 2, 3], [4, 5, 6], [7, 8, 9]])\n    # Access the element at row 1, column 2\n    element = arr_2d[1, 2] # element will be 6\n    ```\n\n### Array Slicing\n\nSlicing allows you to extract sub-arrays (views) from an array. The syntax is similar to Python lists: `[start:stop:step]`.\n\n*   `start`: The index of the first element to include (inclusive). If omitted, defaults to 0.\n*   `stop`: The index of the last element to include (exclusive). If omitted, defaults to the end of the dimension.\n*   `step`: The step size between elements. If omitted, defaults to 1.\n\n*   **1D Arrays:** Apply slicing directly to the array.\n\n    ```python\n    arr_1d = np.array([10, 20, 30, 40, 50])\n    # Slice from index 1 up to (but not including) index 4\n    subset = arr_1d[1:4] # subset will be [20, 30, 40]\n\n    # Slice with step\n    subset_with_step = arr_1d[::2] # subset_with_step will be [10, 30, 50]\n    ```\n\n*   **Multi-dimensional Arrays:** Apply slicing to each dimension separated by commas.\n\n    ```python\n    arr_2d = np.array([[1, 2, 3], [4, 5, 6], [7, 8, 9]])\n    # Slice rows from index 0 up to (but not including) index 2, and all columns\n    subset_rows = arr_2d[0:2, :] # subset_rows will be [[1, 2, 3], [4, 5, 6]]\n\n    # Slice all rows, and columns from index 1 up to (but not including) index 3\n    subset_cols = arr_2d[:, 1:3] # subset_cols will be [[2, 3], [5, 6], [8, 9]]\n\n    # Slice rows from index 1 onwards, and columns from index 0 up to (but not including) index 2\n    subset_both = arr_2d[1:, :2] # subset_both will be [[4, 5], [7, 8]]\n    ```\n\n### Boolean Indexing\n\nBoolean indexing (also known as masking) allows you to select elements from an array based on a boolean condition. The condition is applied element-wise to the array, resulting in a boolean array of the same shape. This boolean array is then used to select elements from the original array where the boolean array is `True`.\npython\narr_1d = np.array([10, 20, 30, 40, 50])\n# Select elements greater than 30\nmask = arr_1d > 30 # mask will be [False, False, False,  True,  True]\nselected_elements = arr_1d[mask] # selected_elements will be [40, 50]\n\n# This can be done more concisely:\nselected_elements_concise = arr_1d[arr_1d > 30] # selected_elements_concise will be [40, 50]\n\n# Boolean indexing with 2D arrays\narr_2d = np.array([[1, 2, 3], [4, 5, 6], [7, 8, 9]])\n# Select elements greater than 5\nmask_2d = arr_2d > 5 # mask_2d will be [[False False False], [False False  True], [ True  True  True]]\nselected_elements_2d = arr_2d[mask_2d] # selected_elements_2d will be [6, 7, 8, 9]\n\n### Fancy Indexing\n\nFancy indexing allows you to select elements or rows/columns using an array of indices. This is useful when you need to select non-contiguous or repeated elements.\npython\narr_1d = np.array([10, 20, 30, 40, 50])\n# Select elements at indices 0, 2, and 4\nindices = np.array([0, 2, 4])\nselected_elements = arr_1d[indices] # selected_elements will be [10, 30, 50]\n\n# Fancy indexing with 2D arrays (selecting rows)\narr_2d = np.array([[1, 2, 3], [4, 5, 6], [7, 8, 9]])\n# Select rows at indices 0 and 2\nrow_indices = np.array([0, 2])\nselected_rows = arr_2d[row_indices] # selected_rows will be [[1, 2, 3], [7, 8, 9]]\n\n# Fancy indexing with 2D arrays (selecting columns)\ncol_indices = np.array([1, 0]) # Note the order matters\nselected_cols = arr_2d[:, col_indices] # selected_cols will be [[2, 1], [5, 4], [8, 7]]\n\n# Fancy indexing for selecting specific elements (requires a pair of index arrays)\nrow_indices_specific = np.array([0, 1, 2])\ncol_indices_specific = np.array([0, 1, 2])\n# Select elements at (0, 0), (1, 1), and (2, 2)\nselected_specific = arr_2d[row_indices_specific, col_indices_specific] # selected_specific will be [1, 5, 9]\n"
          },
          "metadata": {}
        }
      ]
    },
    {
      "cell_type": "markdown",
      "metadata": {
        "id": "d635dafa"
      },
      "source": [
        "**Reasoning**:\n",
        "Now that the markdown explanation is complete, add a code cell to demonstrate the concepts of integer indexing, slicing, boolean indexing, and fancy indexing with examples, printing the results.\n",
        "\n"
      ]
    },
    {
      "cell_type": "code",
      "metadata": {
        "colab": {
          "base_uri": "https://localhost:8080/"
        },
        "id": "7ffe8599",
        "outputId": "1193a745-3391-4f1a-922b-084091fb8ff9"
      },
      "source": [
        "import numpy as np\n",
        "\n",
        "# Create sample arrays\n",
        "arr_1d = np.array([10, 20, 30, 40, 50, 60, 70, 80])\n",
        "arr_2d = np.array([[1, 2, 3, 4],\n",
        "                   [5, 6, 7, 8],\n",
        "                   [9, 10, 11, 12],\n",
        "                   [13, 14, 15, 16]])\n",
        "\n",
        "print(\"Original 1D Array:\")\n",
        "print(arr_1d)\n",
        "print(\"\\nOriginal 2D Array:\")\n",
        "print(arr_2d)\n",
        "\n",
        "# --- Integer Indexing ---\n",
        "print(\"\\n--- Integer Indexing ---\")\n",
        "print(\"Element at index 3 in 1D array:\", arr_1d[3])\n",
        "print(\"Element at row 2, column 1 in 2D array:\", arr_2d[2, 1])\n",
        "# Accessing using a tuple for 2D is equivalent:\n",
        "print(\"Element at row 0, column 3 in 2D array (using tuple):\", arr_2d[(0, 3)])\n",
        "\n",
        "# --- Array Slicing ---\n",
        "print(\"\\n--- Array Slicing ---\")\n",
        "print(\"Slice of 1D array (indices 2 to 5):\", arr_1d[2:6])\n",
        "print(\"Slice of 1D array with step (every other element):\", arr_1d[::2])\n",
        "print(\"Slice of 1D array (last 3 elements):\", arr_1d[-3:])\n",
        "\n",
        "print(\"\\nSlice of 2D array (first 2 rows, all columns):\")\n",
        "print(arr_2d[:2, :])\n",
        "print(\"\\nSlice of 2D array (all rows, columns 1 to 3):\")\n",
        "print(arr_2d[:, 1:4])\n",
        "print(\"\\nSlice of 2D array (rows 1 to 3, columns 0 to 2):\")\n",
        "print(arr_2d[1:4, :3])\n",
        "print(\"\\nSlice of 2D array with step (every other row and column):\")\n",
        "print(arr_2d[::2, ::2])\n",
        "\n",
        "# --- Boolean Indexing ---\n",
        "print(\"\\n--- Boolean Indexing ---\")\n",
        "# Select elements in 1D array greater than 40\n",
        "print(\"Elements in 1D array > 40:\", arr_1d[arr_1d > 40])\n",
        "\n",
        "# Select elements in 2D array which are even\n",
        "print(\"\\nEven elements in 2D array:\")\n",
        "print(arr_2d[arr_2d % 2 == 0]) # Note: boolean indexing on multi-dimensional arrays returns a 1D array\n",
        "\n",
        "# --- Fancy Indexing ---\n",
        "print(\"\\n--- Fancy Indexing ---\")\n",
        "# Select specific elements from 1D array using an index array\n",
        "indices_1d = np.array([0, 4, 7])\n",
        "print(\"Elements in 1D array at indices [0, 4, 7]:\", arr_1d[indices_1d])\n",
        "\n",
        "# Select specific rows from 2D array using an index array\n",
        "row_indices_2d = np.array([0, 3, 1])\n",
        "print(\"\\nRows in 2D array at indices [0, 3, 1]:\")\n",
        "print(arr_2d[row_indices_2d])\n",
        "\n",
        "# Select specific columns from 2D array using an index array\n",
        "col_indices_2d = np.array([3, 0])\n",
        "print(\"\\nColumns in 2D array at indices [3, 0]:\")\n",
        "print(arr_2d[:, col_indices_2d])\n",
        "\n",
        "# Select specific elements from 2D array using paired index arrays\n",
        "row_indices_specific = np.array([0, 1, 2, 3])\n",
        "col_indices_specific = np.array([0, 1, 2, 3]) # Select diagonal elements\n",
        "print(\"\\nDiagonal elements in 2D array:\")\n",
        "print(arr_2d[row_indices_specific, col_indices_specific])\n",
        "\n",
        "# Select elements at (0, 1), (1, 3), (2, 0)\n",
        "row_indices_pairs = np.array([0, 1, 2])\n",
        "col_indices_pairs = np.array([1, 3, 0])\n",
        "print(\"\\nElements at (0, 1), (1, 3), (2, 0):\")\n",
        "print(arr_2d[row_indices_pairs, col_indices_pairs])"
      ],
      "execution_count": 15,
      "outputs": [
        {
          "output_type": "stream",
          "name": "stdout",
          "text": [
            "Original 1D Array:\n",
            "[10 20 30 40 50 60 70 80]\n",
            "\n",
            "Original 2D Array:\n",
            "[[ 1  2  3  4]\n",
            " [ 5  6  7  8]\n",
            " [ 9 10 11 12]\n",
            " [13 14 15 16]]\n",
            "\n",
            "--- Integer Indexing ---\n",
            "Element at index 3 in 1D array: 40\n",
            "Element at row 2, column 1 in 2D array: 10\n",
            "Element at row 0, column 3 in 2D array (using tuple): 4\n",
            "\n",
            "--- Array Slicing ---\n",
            "Slice of 1D array (indices 2 to 5): [30 40 50 60]\n",
            "Slice of 1D array with step (every other element): [10 30 50 70]\n",
            "Slice of 1D array (last 3 elements): [60 70 80]\n",
            "\n",
            "Slice of 2D array (first 2 rows, all columns):\n",
            "[[1 2 3 4]\n",
            " [5 6 7 8]]\n",
            "\n",
            "Slice of 2D array (all rows, columns 1 to 3):\n",
            "[[ 2  3  4]\n",
            " [ 6  7  8]\n",
            " [10 11 12]\n",
            " [14 15 16]]\n",
            "\n",
            "Slice of 2D array (rows 1 to 3, columns 0 to 2):\n",
            "[[ 5  6  7]\n",
            " [ 9 10 11]\n",
            " [13 14 15]]\n",
            "\n",
            "Slice of 2D array with step (every other row and column):\n",
            "[[ 1  3]\n",
            " [ 9 11]]\n",
            "\n",
            "--- Boolean Indexing ---\n",
            "Elements in 1D array > 40: [50 60 70 80]\n",
            "\n",
            "Even elements in 2D array:\n",
            "[ 2  4  6  8 10 12 14 16]\n",
            "\n",
            "--- Fancy Indexing ---\n",
            "Elements in 1D array at indices [0, 4, 7]: [10 50 80]\n",
            "\n",
            "Rows in 2D array at indices [0, 3, 1]:\n",
            "[[ 1  2  3  4]\n",
            " [13 14 15 16]\n",
            " [ 5  6  7  8]]\n",
            "\n",
            "Columns in 2D array at indices [3, 0]:\n",
            "[[ 4  1]\n",
            " [ 8  5]\n",
            " [12  9]\n",
            " [16 13]]\n",
            "\n",
            "Diagonal elements in 2D array:\n",
            "[ 1  6 11 16]\n",
            "\n",
            "Elements at (0, 1), (1, 3), (2, 0):\n",
            "[2 8 9]\n"
          ]
        }
      ]
    },
    {
      "cell_type": "markdown",
      "metadata": {
        "id": "323a5027"
      },
      "source": [
        "## Array manipulation\n",
        "\n",
        "### Subtask:\n",
        "Cover common array manipulation techniques like reshaping, stacking, splitting, and transposing arrays.\n"
      ]
    },
    {
      "cell_type": "markdown",
      "metadata": {
        "id": "96f6f6a4"
      },
      "source": [
        "**Reasoning**:\n",
        "Add a markdown cell with the heading \"Array Manipulation\" and introduce the concepts of reshaping, stacking, splitting, and transposing arrays, including explanations and examples for each technique as specified in the instructions.\n",
        "\n"
      ]
    },
    {
      "cell_type": "code",
      "metadata": {
        "colab": {
          "base_uri": "https://localhost:8080/",
          "height": 1000
        },
        "id": "965bd26e",
        "outputId": "12b6a60d-18a3-4a87-fce9-79389f352b55"
      },
      "source": [
        "%%markdown\n",
        "## Array Manipulation\n",
        "\n",
        "NumPy provides powerful functions to change the shape and structure of arrays without changing the data they contain. This section covers common array manipulation techniques.\n",
        "\n",
        "### Reshaping Arrays\n",
        "\n",
        "Reshaping allows you to change the dimensions of an array. The total number of elements must remain the same. The `.reshape()` method is commonly used for this purpose.\n",
        "python\n",
        "import numpy as np\n",
        "\n",
        "# Create a 1D array with 12 elements\n",
        "arr_1d = np.arange(12)\n",
        "print(\"Original 1D array:\")\n",
        "print(arr_1d)\n",
        "\n",
        "# Reshape the 1D array into a 2D array (3 rows, 4 columns)\n",
        "arr_2d = arr_1d.reshape(3, 4)\n",
        "print(\"\\nReshaped to 2D (3x4):\")\n",
        "print(arr_2d)\n",
        "\n",
        "# Reshape the 2D array back into a 1D array\n",
        "arr_back_to_1d = arr_2d.reshape(12)\n",
        "print(\"\\nReshaped back to 1D:\")\n",
        "print(arr_back_to_1d)\n",
        "\n",
        "# Reshape with -1: NumPy infers the dimension\n",
        "arr_2d_inferred = arr_1d.reshape(-1, 4) # Infer the number of rows\n",
        "print(\"\\nReshaped to 2D (inferred rows):\")\n",
        "print(arr_2d_inferred)\n",
        "\n",
        "arr_2d_inferred_cols = arr_1d.reshape(3, -1) # Infer the number of columns\n",
        "print(\"\\nReshaped to 2D (inferred columns):\")\n",
        "print(arr_2d_inferred_cols)\n",
        "\n",
        "### Stacking Arrays\n",
        "\n",
        "Stacking combines multiple arrays into a single array. NumPy provides functions to stack arrays vertically (`np.vstack()`) and horizontally (`np.hstack()`).\n",
        "\n",
        "*   **`np.vstack()`:** Stacks arrays vertically (row-wise). The arrays must have the same number of columns.\n",
        "*   **`np.hstack()`:** Stacks arrays horizontally (column-wise). The arrays must have the same number of rows.\n",
        "python\n",
        "import numpy as np\n",
        "\n",
        "# Create two sample 2D arrays for stacking\n",
        "arr1 = np.array([[1, 2], [3, 4]])\n",
        "arr2 = np.array([[5, 6], [7, 8]])\n",
        "\n",
        "print(\"Array 1:\")\n",
        "print(arr1)\n",
        "print(\"\\nArray 2:\")\n",
        "print(arr2)\n",
        "\n",
        "# Vertical stacking\n",
        "vstack_result = np.vstack((arr1, arr2))\n",
        "print(\"\\nVertical Stack (vstack):\")\n",
        "print(vstack_result)\n",
        "\n",
        "# Horizontal stacking\n",
        "hstack_result = np.hstack((arr1, arr2))\n",
        "print(\"\\nHorizontal Stack (hstack):\")\n",
        "print(hstack_result)\n",
        "\n",
        "# Example with 1D arrays (vstack stacks them as rows, hstack concatenates)\n",
        "arr_a = np.array([1, 2, 3])\n",
        "arr_b = np.array([4, 5, 6])\n",
        "\n",
        "print(\"\\nArray A (1D):\", arr_a)\n",
        "print(\"Array B (1D):\", arr_b)\n",
        "\n",
        "vstack_1d = np.vstack((arr_a, arr_b))\n",
        "print(\"\\nVertical Stack of 1D arrays:\")\n",
        "print(vstack_1d) # Result is a 2D array\n",
        "\n",
        "hstack_1d = np.hstack((arr_a, arr_b))\n",
        "print(\"\\nHorizontal Stack of 1D arrays:\")\n",
        "print(hstack_1d) # Result is a 1D array concatenation\n",
        "\n",
        "### Splitting Arrays\n",
        "\n",
        "Splitting divides a single array into multiple smaller arrays. NumPy provides functions for vertical (`np.vsplit()`) and horizontal (`np.hsplit()`) splitting. You can split into a specified number of equal parts or at specific indices.\n",
        "\n",
        "*   **`np.vsplit()`:** Splits an array into multiple sub-arrays vertically (row-wise).\n",
        "*   **`np.hsplit()`:** Splits an array into multiple sub-arrays horizontally (column-wise).\n",
        "\n",
        "The splitting can be done by providing either:\n",
        "1.  An integer: The array is divided into that many equally shaped arrays. This is only possible if the array's size along the splitting axis is divisible by the integer.\n",
        "2.  A list/tuple of indices: The array is split before each index in the list/tuple.\n",
        "python\n",
        "import numpy as np\n",
        "\n",
        "# Create a sample 2D array for splitting\n",
        "arr_split = np.arange(16).reshape(4, 4)\n",
        "print(\"Original array for splitting:\")\n",
        "print(arr_split)\n",
        "\n",
        "# Vertical split into 2 equal parts\n",
        "vsplit_result = np.vsplit(arr_split, 2)\n",
        "print(\"\\nVertical Split into 2 parts:\")\n",
        "print(vsplit_result) # Returns a list of arrays\n",
        "\n",
        "# Vertical split at indices [1, 3]\n",
        "vsplit_indices = np.vsplit(arr_split, [1, 3])\n",
        "print(\"\\nVertical Split at indices [1, 3]:\")\n",
        "print(vsplit_indices) # Returns a list of arrays\n",
        "\n",
        "# Horizontal split into 4 equal parts\n",
        "hsplit_result = np.hsplit(arr_split, 4)\n",
        "print(\"\\nHorizontal Split into 4 parts:\")\n",
        "print(hsplit_result) # Returns a list of arrays\n",
        "\n",
        "# Horizontal split at indices [2]\n",
        "hsplit_indices = np.hsplit(arr_split, [2])\n",
        "print(\"\\nHorizontal Split at indices [2]:\")\n",
        "print(hsplit_indices) # Returns a list of arrays\n",
        "\n",
        "### Transposing Arrays\n",
        "\n",
        "Transposing an array permutes its axes. For a 2D array (matrix), transposing swaps rows and columns. This is a fundamental operation in linear algebra. The transpose can be obtained using the `.T` attribute or the `np.transpose()` function.\n",
        "python\n",
        "import numpy as np\n",
        "\n",
        "# Create a sample 2D array for transposing\n",
        "arr_transpose = np.array([[1, 2, 3],\n",
        "                          [4, 5, 6]])\n",
        "print(\"Original array for transposing:\")\n",
        "print(arr_transpose)\n",
        "\n",
        "# Transpose using the .T attribute\n",
        "transpose_t = arr_transpose.T\n",
        "print(\"\\nTranspose using .T:\")\n",
        "print(transpose_t)\n",
        "\n",
        "# Transpose using np.transpose()\n",
        "transpose_func = np.transpose(arr_transpose)\n",
        "print(\"\\nTranspose using np.transpose():\")\n",
        "print(transpose_func)\n",
        "\n",
        "# Example with a 3D array\n",
        "arr_3d = np.arange(24).reshape(2, 3, 4)\n",
        "print(\"\\nOriginal 3D array (shape {}):\".format(arr_3d.shape))\n",
        "print(arr_3d)\n",
        "\n",
        "# Default transpose (reverses the order of axes)\n",
        "transpose_3d_default = arr_3d.T\n",
        "print(\"\\nTranspose of 3D array using .T (axes reversed, shape {}):\".format(transpose_3d_default.shape))\n",
        "print(transpose_3d_default)\n",
        "\n",
        "# Transpose specifying the new order of axes\n",
        "# e.g., swap axis 0 and 1\n",
        "transpose_3d_axes = np.transpose(arr_3d, axes=(1, 0, 2))\n",
        "print(\"\\nTranspose of 3D array swapping axes 0 and 1 (shape {}):\".format(transpose_3d_axes.shape))\n",
        "print(transpose_3d_axes)"
      ],
      "execution_count": 16,
      "outputs": [
        {
          "output_type": "display_data",
          "data": {
            "text/plain": [
              "<IPython.core.display.Markdown object>"
            ],
            "text/markdown": "## Array Manipulation\n\nNumPy provides powerful functions to change the shape and structure of arrays without changing the data they contain. This section covers common array manipulation techniques.\n\n### Reshaping Arrays\n\nReshaping allows you to change the dimensions of an array. The total number of elements must remain the same. The `.reshape()` method is commonly used for this purpose.\npython\nimport numpy as np\n\n# Create a 1D array with 12 elements\narr_1d = np.arange(12)\nprint(\"Original 1D array:\")\nprint(arr_1d)\n\n# Reshape the 1D array into a 2D array (3 rows, 4 columns)\narr_2d = arr_1d.reshape(3, 4)\nprint(\"\\nReshaped to 2D (3x4):\")\nprint(arr_2d)\n\n# Reshape the 2D array back into a 1D array\narr_back_to_1d = arr_2d.reshape(12)\nprint(\"\\nReshaped back to 1D:\")\nprint(arr_back_to_1d)\n\n# Reshape with -1: NumPy infers the dimension\narr_2d_inferred = arr_1d.reshape(-1, 4) # Infer the number of rows\nprint(\"\\nReshaped to 2D (inferred rows):\")\nprint(arr_2d_inferred)\n\narr_2d_inferred_cols = arr_1d.reshape(3, -1) # Infer the number of columns\nprint(\"\\nReshaped to 2D (inferred columns):\")\nprint(arr_2d_inferred_cols)\n\n### Stacking Arrays\n\nStacking combines multiple arrays into a single array. NumPy provides functions to stack arrays vertically (`np.vstack()`) and horizontally (`np.hstack()`).\n\n*   **`np.vstack()`:** Stacks arrays vertically (row-wise). The arrays must have the same number of columns.\n*   **`np.hstack()`:** Stacks arrays horizontally (column-wise). The arrays must have the same number of rows.\npython\nimport numpy as np\n\n# Create two sample 2D arrays for stacking\narr1 = np.array([[1, 2], [3, 4]])\narr2 = np.array([[5, 6], [7, 8]])\n\nprint(\"Array 1:\")\nprint(arr1)\nprint(\"\\nArray 2:\")\nprint(arr2)\n\n# Vertical stacking\nvstack_result = np.vstack((arr1, arr2))\nprint(\"\\nVertical Stack (vstack):\")\nprint(vstack_result)\n\n# Horizontal stacking\nhstack_result = np.hstack((arr1, arr2))\nprint(\"\\nHorizontal Stack (hstack):\")\nprint(hstack_result)\n\n# Example with 1D arrays (vstack stacks them as rows, hstack concatenates)\narr_a = np.array([1, 2, 3])\narr_b = np.array([4, 5, 6])\n\nprint(\"\\nArray A (1D):\", arr_a)\nprint(\"Array B (1D):\", arr_b)\n\nvstack_1d = np.vstack((arr_a, arr_b))\nprint(\"\\nVertical Stack of 1D arrays:\")\nprint(vstack_1d) # Result is a 2D array\n\nhstack_1d = np.hstack((arr_a, arr_b))\nprint(\"\\nHorizontal Stack of 1D arrays:\")\nprint(hstack_1d) # Result is a 1D array concatenation\n\n### Splitting Arrays\n\nSplitting divides a single array into multiple smaller arrays. NumPy provides functions for vertical (`np.vsplit()`) and horizontal (`np.hsplit()`) splitting. You can split into a specified number of equal parts or at specific indices.\n\n*   **`np.vsplit()`:** Splits an array into multiple sub-arrays vertically (row-wise).\n*   **`np.hsplit()`:** Splits an array into multiple sub-arrays horizontally (column-wise).\n\nThe splitting can be done by providing either:\n1.  An integer: The array is divided into that many equally shaped arrays. This is only possible if the array's size along the splitting axis is divisible by the integer.\n2.  A list/tuple of indices: The array is split before each index in the list/tuple.\npython\nimport numpy as np\n\n# Create a sample 2D array for splitting\narr_split = np.arange(16).reshape(4, 4)\nprint(\"Original array for splitting:\")\nprint(arr_split)\n\n# Vertical split into 2 equal parts\nvsplit_result = np.vsplit(arr_split, 2)\nprint(\"\\nVertical Split into 2 parts:\")\nprint(vsplit_result) # Returns a list of arrays\n\n# Vertical split at indices [1, 3]\nvsplit_indices = np.vsplit(arr_split, [1, 3])\nprint(\"\\nVertical Split at indices [1, 3]:\")\nprint(vsplit_indices) # Returns a list of arrays\n\n# Horizontal split into 4 equal parts\nhsplit_result = np.hsplit(arr_split, 4)\nprint(\"\\nHorizontal Split into 4 parts:\")\nprint(hsplit_result) # Returns a list of arrays\n\n# Horizontal split at indices [2]\nhsplit_indices = np.hsplit(arr_split, [2])\nprint(\"\\nHorizontal Split at indices [2]:\")\nprint(hsplit_indices) # Returns a list of arrays\n\n### Transposing Arrays\n\nTransposing an array permutes its axes. For a 2D array (matrix), transposing swaps rows and columns. This is a fundamental operation in linear algebra. The transpose can be obtained using the `.T` attribute or the `np.transpose()` function.\npython\nimport numpy as np\n\n# Create a sample 2D array for transposing\narr_transpose = np.array([[1, 2, 3],\n                          [4, 5, 6]])\nprint(\"Original array for transposing:\")\nprint(arr_transpose)\n\n# Transpose using the .T attribute\ntranspose_t = arr_transpose.T\nprint(\"\\nTranspose using .T:\")\nprint(transpose_t)\n\n# Transpose using np.transpose()\ntranspose_func = np.transpose(arr_transpose)\nprint(\"\\nTranspose using np.transpose():\")\nprint(transpose_func)\n\n# Example with a 3D array\narr_3d = np.arange(24).reshape(2, 3, 4)\nprint(\"\\nOriginal 3D array (shape {}):\".format(arr_3d.shape))\nprint(arr_3d)\n\n# Default transpose (reverses the order of axes)\ntranspose_3d_default = arr_3d.T\nprint(\"\\nTranspose of 3D array using .T (axes reversed, shape {}):\".format(transpose_3d_default.shape))\nprint(transpose_3d_default)\n\n# Transpose specifying the new order of axes\n# e.g., swap axis 0 and 1\ntranspose_3d_axes = np.transpose(arr_3d, axes=(1, 0, 2))\nprint(\"\\nTranspose of 3D array swapping axes 0 and 1 (shape {}):\".format(transpose_3d_axes.shape))\nprint(transpose_3d_axes)\n"
          },
          "metadata": {}
        }
      ]
    },
    {
      "cell_type": "markdown",
      "metadata": {
        "id": "7e42d35d"
      },
      "source": [
        "**Reasoning**:\n",
        "The previous markdown cell was truncated. Add a code cell to demonstrate the array manipulation techniques (reshaping, stacking, splitting, transposing) as explained in the markdown, using sample arrays and printing the results with labels.\n",
        "\n"
      ]
    },
    {
      "cell_type": "code",
      "metadata": {
        "colab": {
          "base_uri": "https://localhost:8080/"
        },
        "id": "e7ced9db",
        "outputId": "23324608-c84d-4d8c-a8f5-1ed473cb4d3a"
      },
      "source": [
        "import numpy as np\n",
        "\n",
        "# Create sample NumPy arrays for demonstration\n",
        "arr_1d_manipulation = np.arange(1, 13) # 1D array for reshaping\n",
        "arr_2d_manipulation = np.arange(1, 10).reshape(3, 3) # 2D array for reshaping and transposing\n",
        "\n",
        "arr_stack1 = np.array([[1, 2], [3, 4]]) # First 2D array for stacking\n",
        "arr_stack2 = np.array([[5, 6], [7, 8]]) # Second 2D array for stacking\n",
        "\n",
        "arr_split = np.arange(20).reshape(4, 5) # 2D array for splitting\n",
        "\n",
        "print(\"--- Array Manipulation Demonstrations ---\")\n",
        "\n",
        "# --- Reshaping ---\n",
        "print(\"\\n--- Reshaping ---\")\n",
        "print(\"Original 1D Array:\", arr_1d_manipulation)\n",
        "reshaped_2d = arr_1d_manipulation.reshape(3, 4)\n",
        "print(\"Reshaped 1D to 2D (3x4):\\n\", reshaped_2d)\n",
        "reshaped_1d = arr_2d_manipulation.reshape(9)\n",
        "print(\"Original 2D Array:\\n\", arr_2d_manipulation)\n",
        "print(\"Reshaped 2D to 1D:\\n\", reshaped_1d)\n",
        "\n",
        "# --- Stacking ---\n",
        "print(\"\\n--- Stacking ---\")\n",
        "print(\"Array 1 for Stacking:\\n\", arr_stack1)\n",
        "print(\"Array 2 for Stacking:\\n\", arr_stack2)\n",
        "vstack_result = np.vstack((arr_stack1, arr_stack2))\n",
        "print(\"Vertical Stack (np.vstack):\\n\", vstack_result)\n",
        "hstack_result = np.hstack((arr_stack1, arr_stack2))\n",
        "print(\"Horizontal Stack (np.hstack):\\n\", hstack_result)\n",
        "\n",
        "# --- Splitting ---\n",
        "print(\"\\n--- Splitting ---\")\n",
        "print(\"Original Array for Splitting:\\n\", arr_split)\n",
        "vsplit_result = np.vsplit(arr_split, 2) # Split into 2 equal vertical parts\n",
        "print(\"Vertical Split into 2 parts (np.vsplit):\\n\", vsplit_result)\n",
        "hsplit_result = np.hsplit(arr_split, 5) # Split into 5 equal horizontal parts\n",
        "print(\"Horizontal Split into 5 parts (np.hsplit):\\n\", hsplit_result)\n",
        "\n",
        "# --- Transposing ---\n",
        "print(\"\\n--- Transposing ---\")\n",
        "print(\"Original 2D Array for Transposing:\\n\", arr_2d_manipulation)\n",
        "transpose_result_T = arr_2d_manipulation.T\n",
        "print(\"Transpose using .T:\\n\", transpose_result_T)\n",
        "transpose_result_func = np.transpose(arr_2d_manipulation)\n",
        "print(\"Transpose using np.transpose():\\n\", transpose_result_func)"
      ],
      "execution_count": 17,
      "outputs": [
        {
          "output_type": "stream",
          "name": "stdout",
          "text": [
            "--- Array Manipulation Demonstrations ---\n",
            "\n",
            "--- Reshaping ---\n",
            "Original 1D Array: [ 1  2  3  4  5  6  7  8  9 10 11 12]\n",
            "Reshaped 1D to 2D (3x4):\n",
            " [[ 1  2  3  4]\n",
            " [ 5  6  7  8]\n",
            " [ 9 10 11 12]]\n",
            "Original 2D Array:\n",
            " [[1 2 3]\n",
            " [4 5 6]\n",
            " [7 8 9]]\n",
            "Reshaped 2D to 1D:\n",
            " [1 2 3 4 5 6 7 8 9]\n",
            "\n",
            "--- Stacking ---\n",
            "Array 1 for Stacking:\n",
            " [[1 2]\n",
            " [3 4]]\n",
            "Array 2 for Stacking:\n",
            " [[5 6]\n",
            " [7 8]]\n",
            "Vertical Stack (np.vstack):\n",
            " [[1 2]\n",
            " [3 4]\n",
            " [5 6]\n",
            " [7 8]]\n",
            "Horizontal Stack (np.hstack):\n",
            " [[1 2 5 6]\n",
            " [3 4 7 8]]\n",
            "\n",
            "--- Splitting ---\n",
            "Original Array for Splitting:\n",
            " [[ 0  1  2  3  4]\n",
            " [ 5  6  7  8  9]\n",
            " [10 11 12 13 14]\n",
            " [15 16 17 18 19]]\n",
            "Vertical Split into 2 parts (np.vsplit):\n",
            " [array([[0, 1, 2, 3, 4],\n",
            "       [5, 6, 7, 8, 9]]), array([[10, 11, 12, 13, 14],\n",
            "       [15, 16, 17, 18, 19]])]\n",
            "Horizontal Split into 5 parts (np.hsplit):\n",
            " [array([[ 0],\n",
            "       [ 5],\n",
            "       [10],\n",
            "       [15]]), array([[ 1],\n",
            "       [ 6],\n",
            "       [11],\n",
            "       [16]]), array([[ 2],\n",
            "       [ 7],\n",
            "       [12],\n",
            "       [17]]), array([[ 3],\n",
            "       [ 8],\n",
            "       [13],\n",
            "       [18]]), array([[ 4],\n",
            "       [ 9],\n",
            "       [14],\n",
            "       [19]])]\n",
            "\n",
            "--- Transposing ---\n",
            "Original 2D Array for Transposing:\n",
            " [[1 2 3]\n",
            " [4 5 6]\n",
            " [7 8 9]]\n",
            "Transpose using .T:\n",
            " [[1 4 7]\n",
            " [2 5 8]\n",
            " [3 6 9]]\n",
            "Transpose using np.transpose():\n",
            " [[1 4 7]\n",
            " [2 5 8]\n",
            " [3 6 9]]\n"
          ]
        }
      ]
    },
    {
      "cell_type": "markdown",
      "metadata": {
        "id": "0c3f4985"
      },
      "source": [
        "## Broadcasting\n",
        "\n",
        "### Subtask:\n",
        "Explain the concept of broadcasting and how it enables operations on arrays of different shapes.\n"
      ]
    },
    {
      "cell_type": "markdown",
      "metadata": {
        "id": "7278eab8"
      },
      "source": [
        "**Reasoning**:\n",
        "Create a markdown cell to explain the concept of NumPy broadcasting, defining it and outlining the rules for compatible array shapes.\n",
        "\n"
      ]
    },
    {
      "cell_type": "code",
      "metadata": {
        "colab": {
          "base_uri": "https://localhost:8080/",
          "height": 988
        },
        "id": "7504706c",
        "outputId": "9ea13c83-55cb-4061-8073-561e4ea4932e"
      },
      "source": [
        "%%markdown\n",
        "## Broadcasting\n",
        "\n",
        "Broadcasting is a powerful mechanism in NumPy that allows arithmetic operations between arrays with different shapes. It simplifies writing code by enabling NumPy to operate on elements of arrays as if they were all the same shape, without explicitly creating larger copies of arrays.\n",
        "\n",
        "### What is Broadcasting?\n",
        "\n",
        "Broadcasting describes how NumPy treats arrays with different shapes during arithmetic operations like addition, subtraction, multiplication, etc. Subject to certain constraints, the smaller array is \"broadcast\" across the larger array so that they have compatible shapes for the operation.\n",
        "\n",
        "The core idea is to duplicate the elements of the smaller array along the dimensions where the shapes differ until the shapes are compatible.\n",
        "\n",
        "### Broadcasting Rules\n",
        "\n",
        "NumPy follows a strict set of rules to determine if two arrays are compatible for broadcasting:\n",
        "\n",
        "1.  **Rule 1: Equal number of dimensions:** If the two arrays do not have the same number of dimensions, the shape of the smaller dimensioned array is padded with ones on its left side until the number of dimensions matches the larger dimensioned array.\n",
        "2.  **Rule 2: Size of dimensions:** Starting from the trailing (rightmost) dimension and moving leftward, the sizes of each dimension being compared must either be equal, or one of them must be 1.\n",
        "3.  **Rule 3: Incompatible shapes:** If the sizes of the dimensions are unequal in any dimension, and neither size is 1, then a `ValueError` is raised, indicating that the arrays are not compatible for broadcasting.\n",
        "\n",
        "If these rules are met, the smaller array is broadcast to match the shape of the larger array for the operation. The resulting array's shape will be the maximum size along each dimension of the input arrays.\n",
        "\n",
        "Let's illustrate with examples:\n",
        "\n",
        "*   **Scalar and Array:** A scalar value can be broadcast to an array of any shape. The scalar is treated as an array with shape `()` and is stretched across all elements of the larger array.\n",
        "    *   Example: `np.array([1, 2, 3]) + 5` -> `[1+5, 2+5, 3+5]` -> `[6, 7, 8]`\n",
        "*   **1D Array and 2D Array:**\n",
        "    *   Consider a 2x3 array and a 1x3 array (a row vector).\n",
        "        *   Array 1 shape: `(2, 3)`\n",
        "        *   Array 2 shape: `(3,)` -> Pad with 1 on the left (Rule 1): `(1, 3)`\n",
        "        *   Compare dimensions from right to left (Rule 2):\n",
        "            *   Trailing dimension: 3 and 3 (Equal - OK)\n",
        "            *   Next dimension: 2 and 1 (One is 1 - OK)\n",
        "        *   Broadcasting is possible. The (1, 3) array is stretched vertically to match the (2, 3) shape.\n",
        "\n",
        "    *   Consider a 2x3 array and a 2x1 array (a column vector).\n",
        "        *   Array 1 shape: `(2, 3)`\n",
        "        *   Array 2 shape: `(2, 1)`\n",
        "        *   Compare dimensions from right to left (Rule 2):\n",
        "            *   Trailing dimension: 3 and 1 (One is 1 - OK)\n",
        "            *   Next dimension: 2 and 2 (Equal - OK)\n",
        "        *   Broadcasting is possible. The (2, 1) array is stretched horizontally to match the (2, 3) shape.\n",
        "\n",
        "    *   Consider a 2x3 array and a 1D array of shape `(2,)`.\n",
        "        *   Array 1 shape: `(2, 3)`\n",
        "        *   Array 2 shape: `(2,)` -> Pad with 1 on the left (Rule 1): `(1, 2)`\n",
        "        *   Compare dimensions from right to left (Rule 2):\n",
        "            *   Trailing dimension: 3 and 2 (Unequal and neither is 1 - Rule 3 violated)\n",
        "        *   Broadcasting is *not* possible.\n",
        "\n",
        "Understanding these rules is key to effectively using broadcasting for efficient array operations."
      ],
      "execution_count": 18,
      "outputs": [
        {
          "output_type": "display_data",
          "data": {
            "text/plain": [
              "<IPython.core.display.Markdown object>"
            ],
            "text/markdown": "## Broadcasting\n\nBroadcasting is a powerful mechanism in NumPy that allows arithmetic operations between arrays with different shapes. It simplifies writing code by enabling NumPy to operate on elements of arrays as if they were all the same shape, without explicitly creating larger copies of arrays.\n\n### What is Broadcasting?\n\nBroadcasting describes how NumPy treats arrays with different shapes during arithmetic operations like addition, subtraction, multiplication, etc. Subject to certain constraints, the smaller array is \"broadcast\" across the larger array so that they have compatible shapes for the operation.\n\nThe core idea is to duplicate the elements of the smaller array along the dimensions where the shapes differ until the shapes are compatible.\n\n### Broadcasting Rules\n\nNumPy follows a strict set of rules to determine if two arrays are compatible for broadcasting:\n\n1.  **Rule 1: Equal number of dimensions:** If the two arrays do not have the same number of dimensions, the shape of the smaller dimensioned array is padded with ones on its left side until the number of dimensions matches the larger dimensioned array.\n2.  **Rule 2: Size of dimensions:** Starting from the trailing (rightmost) dimension and moving leftward, the sizes of each dimension being compared must either be equal, or one of them must be 1.\n3.  **Rule 3: Incompatible shapes:** If the sizes of the dimensions are unequal in any dimension, and neither size is 1, then a `ValueError` is raised, indicating that the arrays are not compatible for broadcasting.\n\nIf these rules are met, the smaller array is broadcast to match the shape of the larger array for the operation. The resulting array's shape will be the maximum size along each dimension of the input arrays.\n\nLet's illustrate with examples:\n\n*   **Scalar and Array:** A scalar value can be broadcast to an array of any shape. The scalar is treated as an array with shape `()` and is stretched across all elements of the larger array.\n    *   Example: `np.array([1, 2, 3]) + 5` -> `[1+5, 2+5, 3+5]` -> `[6, 7, 8]`\n*   **1D Array and 2D Array:**\n    *   Consider a 2x3 array and a 1x3 array (a row vector).\n        *   Array 1 shape: `(2, 3)`\n        *   Array 2 shape: `(3,)` -> Pad with 1 on the left (Rule 1): `(1, 3)`\n        *   Compare dimensions from right to left (Rule 2):\n            *   Trailing dimension: 3 and 3 (Equal - OK)\n            *   Next dimension: 2 and 1 (One is 1 - OK)\n        *   Broadcasting is possible. The (1, 3) array is stretched vertically to match the (2, 3) shape.\n\n    *   Consider a 2x3 array and a 2x1 array (a column vector).\n        *   Array 1 shape: `(2, 3)`\n        *   Array 2 shape: `(2, 1)`\n        *   Compare dimensions from right to left (Rule 2):\n            *   Trailing dimension: 3 and 1 (One is 1 - OK)\n            *   Next dimension: 2 and 2 (Equal - OK)\n        *   Broadcasting is possible. The (2, 1) array is stretched horizontally to match the (2, 3) shape.\n\n    *   Consider a 2x3 array and a 1D array of shape `(2,)`.\n        *   Array 1 shape: `(2, 3)`\n        *   Array 2 shape: `(2,)` -> Pad with 1 on the left (Rule 1): `(1, 2)`\n        *   Compare dimensions from right to left (Rule 2):\n            *   Trailing dimension: 3 and 2 (Unequal and neither is 1 - Rule 3 violated)\n        *   Broadcasting is *not* possible.\n\nUnderstanding these rules is key to effectively using broadcasting for efficient array operations.\n"
          },
          "metadata": {}
        }
      ]
    },
    {
      "cell_type": "markdown",
      "metadata": {
        "id": "171372e4"
      },
      "source": [
        "**Reasoning**:\n",
        "Create a code cell to demonstrate different broadcasting examples as described in the instructions.\n",
        "\n"
      ]
    },
    {
      "cell_type": "code",
      "metadata": {
        "colab": {
          "base_uri": "https://localhost:8080/"
        },
        "id": "f1db86f1",
        "outputId": "36694a00-5d02-48f4-e3d0-24ad5be92c28"
      },
      "source": [
        "import numpy as np\n",
        "\n",
        "print(\"--- Broadcasting Examples ---\")\n",
        "\n",
        "# Example 1: Broadcasting a scalar to an array\n",
        "arr1 = np.array([1, 2, 3, 4, 5])\n",
        "scalar = 10\n",
        "print(\"\\nOriginal Array 1:\", arr1)\n",
        "print(\"Scalar:\", scalar)\n",
        "broadcast_scalar_result = arr1 + scalar\n",
        "print(\"Result of Array 1 + Scalar:\\n\", broadcast_scalar_result)\n",
        "\n",
        "# Example 2: Broadcasting a 1D array (row vector) to a 2D array\n",
        "# Array 2 shape: (3, 4)\n",
        "# Array 3 shape: (4,) -> (1, 4) after padding (Rule 1)\n",
        "# Comparison (right to left): 4 vs 4 (Equal), 3 vs 1 (One is 1) -> Compatible\n",
        "arr2 = np.array([[1, 2, 3, 4],\n",
        "                 [5, 6, 7, 8],\n",
        "                 [9, 10, 11, 12]])\n",
        "arr3 = np.array([1, 0, 1, 0])\n",
        "print(\"\\nOriginal Array 2:\\n\", arr2)\n",
        "print(\"Original Array 3:\", arr3)\n",
        "broadcast_1d_to_2d_row = arr2 + arr3\n",
        "print(\"Result of Array 2 + Array 3 (1D broadcast to 2D rows):\\n\", broadcast_1d_to_2d_row)\n",
        "\n",
        "# Example 3: Broadcasting a 1D array (column vector) to a 2D array\n",
        "# To create a column vector, we need to reshape or use np.newaxis\n",
        "# Array 4 shape: (3, 1)\n",
        "# Array 5 shape: (3,) -> (1, 3) after padding (Rule 1)\n",
        "# Comparison (right to left): 1 vs 3 (Unequal, neither is 1) -> Incompatible with arr5\n",
        "# Let's create a different 2D array and a column vector for a valid example\n",
        "arr4 = np.array([[1, 2],\n",
        "                 [3, 4],\n",
        "                 [5, 6]]) # Shape (3, 2)\n",
        "arr5_col = np.array([[10],\n",
        "                     [20],\n",
        "                     [30]]) # Shape (3, 1)\n",
        "# Comparison (right to left): 2 vs 1 (One is 1), 3 vs 3 (Equal) -> Compatible\n",
        "print(\"\\nOriginal Array 4:\\n\", arr4)\n",
        "print(\"Original Array 5 (Column Vector):\\n\", arr5_col)\n",
        "broadcast_1d_to_2d_col = arr4 + arr5_col\n",
        "print(\"Result of Array 4 + Array 5 (Column Vector broadcast to 2D cols):\\n\", broadcast_1d_to_2d_col)\n",
        "\n",
        "# Example 4: Broadcasting arrays with different numbers of dimensions (valid example)\n",
        "# Array 6 shape: (2, 1, 3)\n",
        "# Array 7 shape: (1, 3) -> (1, 1, 3) after padding (Rule 1)\n",
        "# Comparison (right to left): 3 vs 3 (Equal), 1 vs 1 (Equal), 2 vs 1 (One is 1) -> Compatible\n",
        "arr6 = np.arange(6).reshape(2, 1, 3)\n",
        "arr7 = np.arange(3).reshape(1, 3)\n",
        "print(\"\\nOriginal Array 6 (shape {}):\\n\".format(arr6.shape), arr6)\n",
        "print(\"Original Array 7 (shape {}):\\n\".format(arr7.shape), arr7)\n",
        "broadcast_diff_dims = arr6 + arr7\n",
        "print(\"Result of Array 6 + Array 7 (Broadcasting different dimensions):\\n\", broadcast_diff_dims)\n",
        "\n",
        "# Example 5: Broadcasting arrays with different numbers of dimensions (invalid example)\n",
        "# Array 8 shape: (2, 3)\n",
        "# Array 9 shape: (4,) -> (1, 4) after padding (Rule 1)\n",
        "# Comparison (right to left): 3 vs 4 (Unequal, neither is 1) -> Incompatible\n",
        "arr8 = np.arange(6).reshape(2, 3)\n",
        "arr9 = np.arange(4)\n",
        "print(\"\\nOriginal Array 8 (shape {}):\\n\".format(arr8.shape), arr8)\n",
        "print(\"Original Array 9 (shape {}):\\n\".format(arr9.shape), arr9)\n",
        "print(\"Attempting to broadcast Array 8 + Array 9 (expecting an error):\")\n",
        "try:\n",
        "    broadcast_invalid = arr8 + arr9\n",
        "    print(broadcast_invalid)\n",
        "except ValueError as e:\n",
        "    print(\"Broadcasting failed as expected:\", e)\n"
      ],
      "execution_count": 19,
      "outputs": [
        {
          "output_type": "stream",
          "name": "stdout",
          "text": [
            "--- Broadcasting Examples ---\n",
            "\n",
            "Original Array 1: [1 2 3 4 5]\n",
            "Scalar: 10\n",
            "Result of Array 1 + Scalar:\n",
            " [11 12 13 14 15]\n",
            "\n",
            "Original Array 2:\n",
            " [[ 1  2  3  4]\n",
            " [ 5  6  7  8]\n",
            " [ 9 10 11 12]]\n",
            "Original Array 3: [1 0 1 0]\n",
            "Result of Array 2 + Array 3 (1D broadcast to 2D rows):\n",
            " [[ 2  2  4  4]\n",
            " [ 6  6  8  8]\n",
            " [10 10 12 12]]\n",
            "\n",
            "Original Array 4:\n",
            " [[1 2]\n",
            " [3 4]\n",
            " [5 6]]\n",
            "Original Array 5 (Column Vector):\n",
            " [[10]\n",
            " [20]\n",
            " [30]]\n",
            "Result of Array 4 + Array 5 (Column Vector broadcast to 2D cols):\n",
            " [[11 12]\n",
            " [23 24]\n",
            " [35 36]]\n",
            "\n",
            "Original Array 6 (shape (2, 1, 3)):\n",
            " [[[0 1 2]]\n",
            "\n",
            " [[3 4 5]]]\n",
            "Original Array 7 (shape (1, 3)):\n",
            " [[0 1 2]]\n",
            "Result of Array 6 + Array 7 (Broadcasting different dimensions):\n",
            " [[[0 2 4]]\n",
            "\n",
            " [[3 5 7]]]\n",
            "\n",
            "Original Array 8 (shape (2, 3)):\n",
            " [[0 1 2]\n",
            " [3 4 5]]\n",
            "Original Array 9 (shape (4,)):\n",
            " [0 1 2 3]\n",
            "Attempting to broadcast Array 8 + Array 9 (expecting an error):\n",
            "Broadcasting failed as expected: operands could not be broadcast together with shapes (2,3) (4,) \n"
          ]
        }
      ]
    },
    {
      "cell_type": "markdown",
      "metadata": {
        "id": "ec7408f3"
      },
      "source": [
        "## Numpy operations\n",
        "\n",
        "### Subtask:\n",
        "Introduce various mathematical, logical, and statistical operations that can be performed on NumPy arrays.\n"
      ]
    },
    {
      "cell_type": "markdown",
      "metadata": {
        "id": "a268f386"
      },
      "source": [
        "**Reasoning**:\n",
        "Add a markdown cell with a level 2 heading for \"NumPy Operations\" and explain the types of operations available.\n",
        "\n"
      ]
    },
    {
      "cell_type": "code",
      "metadata": {
        "colab": {
          "base_uri": "https://localhost:8080/",
          "height": 997
        },
        "id": "2ec8a9ca",
        "outputId": "353e2c6c-8a5b-4e16-8ed1-5ed3a891fe0d"
      },
      "source": [
        "%%markdown\n",
        "## NumPy Operations\n",
        "\n",
        "NumPy provides a rich set of functions and methods for performing various operations on arrays efficiently. These operations can be categorized into universal functions (ufuncs) for element-wise operations, methods for reductions (like sum, mean), and comparison/logical operations.\n",
        "\n",
        "### Basic Arithmetic Operations\n",
        "\n",
        "Basic arithmetic operations such as addition (`+`), subtraction (`-`), multiplication (`*`), and division (`/`) are performed element-wise on NumPy arrays. This means the operation is applied independently to each pair of elements at corresponding positions in the arrays. When operating between an array and a scalar, the scalar is broadcast across the array (as explained in the Broadcasting section).\n",
        "\n",
        "Other common arithmetic operations include:\n",
        "*   `np.add()`, `np.subtract()`, `np.multiply()`, `np.divide()`: Equivalent ufuncs.\n",
        "*   `np.power()`: Element-wise exponentiation.\n",
        "*   `np.sqrt()`: Element-wise square root.\n",
        "*   `np.exp()`: Element-wise exponential.\n",
        "*   `np.log()`, `np.log10()`, `np.log2()`: Element-wise logarithms.\n",
        "*   `np.sin()`, `np.cos()`, `np.tan()`: Element-wise trigonometric functions.\n",
        "\n",
        "### Comparison Operations\n",
        "\n",
        "Comparison operations are also performed element-wise and result in a boolean array of the same shape as the input arrays. The elements of the resulting boolean array are `True` where the condition is met and `False` otherwise.\n",
        "\n",
        "*   Greater than: `>` or `np.greater()`\n",
        "*   Less than: `<` or `np.less()`\n",
        "*   Equal to: `==` or `np.equal()`\n",
        "*   Not equal to: `!=` or `np.not_equal()`\n",
        "*   Greater than or equal to: `>=` or `np.greater_equal()`\n",
        "*   Less than or equal to: `<=` or `np.less_equal()`\n",
        "\n",
        "### Logical Operations\n",
        "\n",
        "Logical operations are performed element-wise on boolean arrays. They combine boolean values based on logical rules and return a boolean array.\n",
        "\n",
        "*   Logical AND: `&` or `np.logical_and()`\n",
        "*   Logical OR: `|` or `np.logical_or()`\n",
        "*   Logical NOT: `~` or `np.logical_not()`\n",
        "*   Logical XOR: `^` or `np.logical_xor()`\n",
        "\n",
        "### Aggregate Functions\n",
        "\n",
        "Aggregate functions (also known as reduction operations) perform an operation on an array and return a single value or an array with fewer dimensions. They summarize the data in an array. Common aggregate functions include:\n",
        "\n",
        "*   `np.sum()` or `.sum()`: Sum of elements.\n",
        "*   `np.mean()` or `.mean()`: Arithmetic mean (average).\n",
        "*   `np.median()`: Median of elements.\n",
        "*   `np.min()` or `.min()`: Minimum element.\n",
        "*   `np.max()` or `.max()`: Maximum element.\n",
        "*   `np.std()` or `.std()`: Standard deviation.\n",
        "*   `np.var()` or `.var()`: Variance.\n",
        "*   `np.prod()` or `.prod()`: Product of elements.\n",
        "*   `np.all()`: Test whether all array elements along a given axis evaluate to True.\n",
        "*   `np.any()`: Test whether any array element along a given axis evaluates to True.\n",
        "\n",
        "Most aggregate functions support the `axis` parameter, which specifies the axis or axes along which the operation is performed.\n",
        "*   `axis=0`: Performs the operation column-wise.\n",
        "*   `axis=1`: Performs the operation row-wise (for 2D arrays).\n",
        "*   `None` (default): Performs the operation on the flattened array."
      ],
      "execution_count": 20,
      "outputs": [
        {
          "output_type": "display_data",
          "data": {
            "text/plain": [
              "<IPython.core.display.Markdown object>"
            ],
            "text/markdown": "## NumPy Operations\n\nNumPy provides a rich set of functions and methods for performing various operations on arrays efficiently. These operations can be categorized into universal functions (ufuncs) for element-wise operations, methods for reductions (like sum, mean), and comparison/logical operations.\n\n### Basic Arithmetic Operations\n\nBasic arithmetic operations such as addition (`+`), subtraction (`-`), multiplication (`*`), and division (`/`) are performed element-wise on NumPy arrays. This means the operation is applied independently to each pair of elements at corresponding positions in the arrays. When operating between an array and a scalar, the scalar is broadcast across the array (as explained in the Broadcasting section).\n\nOther common arithmetic operations include:\n*   `np.add()`, `np.subtract()`, `np.multiply()`, `np.divide()`: Equivalent ufuncs.\n*   `np.power()`: Element-wise exponentiation.\n*   `np.sqrt()`: Element-wise square root.\n*   `np.exp()`: Element-wise exponential.\n*   `np.log()`, `np.log10()`, `np.log2()`: Element-wise logarithms.\n*   `np.sin()`, `np.cos()`, `np.tan()`: Element-wise trigonometric functions.\n\n### Comparison Operations\n\nComparison operations are also performed element-wise and result in a boolean array of the same shape as the input arrays. The elements of the resulting boolean array are `True` where the condition is met and `False` otherwise.\n\n*   Greater than: `>` or `np.greater()`\n*   Less than: `<` or `np.less()`\n*   Equal to: `==` or `np.equal()`\n*   Not equal to: `!=` or `np.not_equal()`\n*   Greater than or equal to: `>=` or `np.greater_equal()`\n*   Less than or equal to: `<=` or `np.less_equal()`\n\n### Logical Operations\n\nLogical operations are performed element-wise on boolean arrays. They combine boolean values based on logical rules and return a boolean array.\n\n*   Logical AND: `&` or `np.logical_and()`\n*   Logical OR: `|` or `np.logical_or()`\n*   Logical NOT: `~` or `np.logical_not()`\n*   Logical XOR: `^` or `np.logical_xor()`\n\n### Aggregate Functions\n\nAggregate functions (also known as reduction operations) perform an operation on an array and return a single value or an array with fewer dimensions. They summarize the data in an array. Common aggregate functions include:\n\n*   `np.sum()` or `.sum()`: Sum of elements.\n*   `np.mean()` or `.mean()`: Arithmetic mean (average).\n*   `np.median()`: Median of elements.\n*   `np.min()` or `.min()`: Minimum element.\n*   `np.max()` or `.max()`: Maximum element.\n*   `np.std()` or `.std()`: Standard deviation.\n*   `np.var()` or `.var()`: Variance.\n*   `np.prod()` or `.prod()`: Product of elements.\n*   `np.all()`: Test whether all array elements along a given axis evaluate to True.\n*   `np.any()`: Test whether any array element along a given axis evaluates to True.\n\nMost aggregate functions support the `axis` parameter, which specifies the axis or axes along which the operation is performed.\n*   `axis=0`: Performs the operation column-wise.\n*   `axis=1`: Performs the operation row-wise (for 2D arrays).\n*   `None` (default): Performs the operation on the flattened array.\n"
          },
          "metadata": {}
        }
      ]
    },
    {
      "cell_type": "markdown",
      "metadata": {
        "id": "3ad4c890"
      },
      "source": [
        "**Reasoning**:\n",
        "Add a code cell to demonstrate the basic arithmetic, comparison, logical, and aggregate operations on NumPy arrays as explained in the markdown cell.\n",
        "\n"
      ]
    },
    {
      "cell_type": "code",
      "metadata": {
        "colab": {
          "base_uri": "https://localhost:8080/"
        },
        "id": "3ebfe024",
        "outputId": "55a1222a-80c6-494e-8bd2-8c16edebd47c"
      },
      "source": [
        "import numpy as np\n",
        "\n",
        "# Create sample arrays\n",
        "arr_a = np.array([1, 2, 3, 4, 5])\n",
        "arr_b = np.array([5, 4, 3, 2, 1])\n",
        "arr_2d_ops = np.arange(1, 10).reshape(3, 3) # For aggregate functions\n",
        "\n",
        "print(\"--- NumPy Operations Demonstrations ---\")\n",
        "\n",
        "# --- Basic Arithmetic Operations ---\n",
        "print(\"\\n--- Basic Arithmetic Operations ---\")\n",
        "print(\"Array A:\", arr_a)\n",
        "print(\"Array B:\", arr_b)\n",
        "print(\"Array 2D:\\n\", arr_2d_ops)\n",
        "\n",
        "print(\"\\nArray A + Array B:\", arr_a + arr_b)\n",
        "print(\"Array A - Array B:\", arr_a - arr_b)\n",
        "print(\"Array A * Array B (Element-wise):\", arr_a * arr_b)\n",
        "print(\"Array A / Array B (Element-wise):\", arr_a / arr_b)\n",
        "print(\"Array A + 10 (Scalar Addition):\", arr_a + 10)\n",
        "print(\"Array 2D * 2 (Scalar Multiplication):\\n\", arr_2d_ops * 2)\n",
        "print(\"np.sqrt(Array A):\", np.sqrt(arr_a))\n",
        "\n",
        "# --- Comparison Operations ---\n",
        "print(\"\\n--- Comparison Operations ---\")\n",
        "print(\"Array A > Array B:\", arr_a > arr_b)\n",
        "print(\"Array A == Array B:\", arr_a == arr_b)\n",
        "print(\"Array A <= 3:\", arr_a <= 3)\n",
        "print(\"Array 2D > 5:\\n\", arr_2d_ops > 5)\n",
        "\n",
        "# --- Logical Operations (requires boolean arrays) ---\n",
        "print(\"\\n--- Logical Operations ---\")\n",
        "bool_arr1 = np.array([True, False, True, False, True])\n",
        "bool_arr2 = np.array([False, False, True, True, False])\n",
        "print(\"Boolean Array 1:\", bool_arr1)\n",
        "print(\"Boolean Array 2:\", bool_arr2)\n",
        "print(\"bool_arr1 & bool_arr2 (Logical AND):\", bool_arr1 & bool_arr2)\n",
        "print(\"bool_arr1 | bool_arr2 (Logical OR):\", bool_arr1 | bool_arr2)\n",
        "print(\"~bool_arr1 (Logical NOT):\", ~bool_arr1)\n",
        "\n",
        "# Example with comparison results\n",
        "comparison_result1 = arr_a > 2 # [False  False  True  True  True]\n",
        "comparison_result2 = arr_b < 4 # [False  False  True  True  True]\n",
        "print(\"\\nComparison Result 1 (arr_a > 2):\", comparison_result1)\n",
        "print(\"Comparison Result 2 (arr_b < 4):\", comparison_result2)\n",
        "print(\"(arr_a > 2) & (arr_b < 4):\", comparison_result1 & comparison_result2)\n",
        "\n",
        "# --- Aggregate Functions ---\n",
        "print(\"\\n--- Aggregate Functions ---\")\n",
        "print(\"Original 1D Array (arr_a):\", arr_a)\n",
        "print(\"Sum of arr_a:\", arr_a.sum())\n",
        "print(\"Mean of arr_a:\", arr_a.mean())\n",
        "print(\"Min of arr_a:\", arr_a.min())\n",
        "print(\"Max of arr_a:\", arr_a.max())\n",
        "print(\"Standard Deviation of arr_a:\", arr_a.std())\n",
        "\n",
        "print(\"\\nOriginal 2D Array (arr_2d_ops):\\n\", arr_2d_ops)\n",
        "print(\"Sum of all elements in arr_2d_ops:\", arr_2d_ops.sum())\n",
        "print(\"Sum along axis 0 (columns) in arr_2d_ops:\", arr_2d_ops.sum(axis=0))\n",
        "print(\"Sum along axis 1 (rows) in arr_2d_ops:\", arr_2d_ops.sum(axis=1))\n",
        "\n",
        "print(\"\\nMean of all elements in arr_2d_ops:\", arr_2d_ops.mean())\n",
        "print(\"Mean along axis 0 (columns) in arr_2d_ops:\", arr_2d_ops.mean(axis=0))\n",
        "print(\"Mean along axis 1 (rows) in arr_2d_ops:\", arr_2d_ops.mean(axis=1))\n",
        "\n",
        "print(\"\\nMin of all elements in arr_2d_ops:\", arr_2d_ops.min())\n",
        "print(\"Min along axis 0 (columns) in arr_2d_ops:\", arr_2d_ops.min(axis=0))\n",
        "print(\"Min along axis 1 (rows) in arr_2d_ops:\", arr_2d_ops.min(axis=1))\n",
        "\n",
        "print(\"\\nTest if all elements > 0 in arr_a:\", np.all(arr_a > 0))\n",
        "print(\"Test if any element > 5 in arr_a:\", np.any(arr_a > 5))\n",
        "print(\"\\nTest if all elements in first row of arr_2d_ops > 0:\", np.all(arr_2d_ops[0, :] > 0))\n",
        "print(\"Test if any element in first column of arr_2d_ops < 5:\", np.any(arr_2d_ops[:, 0] < 5))"
      ],
      "execution_count": 21,
      "outputs": [
        {
          "output_type": "stream",
          "name": "stdout",
          "text": [
            "--- NumPy Operations Demonstrations ---\n",
            "\n",
            "--- Basic Arithmetic Operations ---\n",
            "Array A: [1 2 3 4 5]\n",
            "Array B: [5 4 3 2 1]\n",
            "Array 2D:\n",
            " [[1 2 3]\n",
            " [4 5 6]\n",
            " [7 8 9]]\n",
            "\n",
            "Array A + Array B: [6 6 6 6 6]\n",
            "Array A - Array B: [-4 -2  0  2  4]\n",
            "Array A * Array B (Element-wise): [5 8 9 8 5]\n",
            "Array A / Array B (Element-wise): [0.2 0.5 1.  2.  5. ]\n",
            "Array A + 10 (Scalar Addition): [11 12 13 14 15]\n",
            "Array 2D * 2 (Scalar Multiplication):\n",
            " [[ 2  4  6]\n",
            " [ 8 10 12]\n",
            " [14 16 18]]\n",
            "np.sqrt(Array A): [1.         1.41421356 1.73205081 2.         2.23606798]\n",
            "\n",
            "--- Comparison Operations ---\n",
            "Array A > Array B: [False False False  True  True]\n",
            "Array A == Array B: [False False  True False False]\n",
            "Array A <= 3: [ True  True  True False False]\n",
            "Array 2D > 5:\n",
            " [[False False False]\n",
            " [False False  True]\n",
            " [ True  True  True]]\n",
            "\n",
            "--- Logical Operations ---\n",
            "Boolean Array 1: [ True False  True False  True]\n",
            "Boolean Array 2: [False False  True  True False]\n",
            "bool_arr1 & bool_arr2 (Logical AND): [False False  True False False]\n",
            "bool_arr1 | bool_arr2 (Logical OR): [ True False  True  True  True]\n",
            "~bool_arr1 (Logical NOT): [False  True False  True False]\n",
            "\n",
            "Comparison Result 1 (arr_a > 2): [False False  True  True  True]\n",
            "Comparison Result 2 (arr_b < 4): [False False  True  True  True]\n",
            "(arr_a > 2) & (arr_b < 4): [False False  True  True  True]\n",
            "\n",
            "--- Aggregate Functions ---\n",
            "Original 1D Array (arr_a): [1 2 3 4 5]\n",
            "Sum of arr_a: 15\n",
            "Mean of arr_a: 3.0\n",
            "Min of arr_a: 1\n",
            "Max of arr_a: 5\n",
            "Standard Deviation of arr_a: 1.4142135623730951\n",
            "\n",
            "Original 2D Array (arr_2d_ops):\n",
            " [[1 2 3]\n",
            " [4 5 6]\n",
            " [7 8 9]]\n",
            "Sum of all elements in arr_2d_ops: 45\n",
            "Sum along axis 0 (columns) in arr_2d_ops: [12 15 18]\n",
            "Sum along axis 1 (rows) in arr_2d_ops: [ 6 15 24]\n",
            "\n",
            "Mean of all elements in arr_2d_ops: 5.0\n",
            "Mean along axis 0 (columns) in arr_2d_ops: [4. 5. 6.]\n",
            "Mean along axis 1 (rows) in arr_2d_ops: [2. 5. 8.]\n",
            "\n",
            "Min of all elements in arr_2d_ops: 1\n",
            "Min along axis 0 (columns) in arr_2d_ops: [1 2 3]\n",
            "Min along axis 1 (rows) in arr_2d_ops: [1 4 7]\n",
            "\n",
            "Test if all elements > 0 in arr_a: True\n",
            "Test if any element > 5 in arr_a: False\n",
            "\n",
            "Test if all elements in first row of arr_2d_ops > 0: True\n",
            "Test if any element in first column of arr_2d_ops < 5: True\n"
          ]
        }
      ]
    },
    {
      "cell_type": "markdown",
      "metadata": {
        "id": "45c60a8a"
      },
      "source": [
        "## Linear algebra with numpy\n",
        "\n",
        "### Subtask:\n",
        "Show how to perform linear algebra operations using NumPy's linear algebra module.\n"
      ]
    },
    {
      "cell_type": "markdown",
      "metadata": {
        "id": "c5d8346a"
      },
      "source": [
        "**Reasoning**:\n",
        "Add a markdown cell with a level 2 heading and introduction to NumPy's linear algebra module as per instructions 1, 2, and 3.\n",
        "\n"
      ]
    },
    {
      "cell_type": "code",
      "metadata": {
        "colab": {
          "base_uri": "https://localhost:8080/",
          "height": 310
        },
        "id": "24c07017",
        "outputId": "81fd905e-3b8c-4a0c-f2d4-acfd727808f9"
      },
      "source": [
        "%%markdown\n",
        "## Linear Algebra with NumPy\n",
        "\n",
        "NumPy's `numpy.linalg` module provides a suite of standard linear algebra operations. These functions are highly optimized and can efficiently handle operations on large matrices and vectors. This module is widely used in various scientific and engineering fields for tasks ranging from solving systems of linear equations to analyzing the properties of matrices.\n",
        "\n",
        "Key linear algebra operations supported by `np.linalg` include:\n",
        "\n",
        "*   **Matrix Multiplication:** Multiplying two matrices or a matrix and a vector.\n",
        "*   **Determinant:** Calculating the determinant of a square matrix. The determinant is a scalar value that provides information about the matrix, such as whether an inverse exists.\n",
        "*   **Inverse:** Calculating the inverse of a square matrix. The inverse of a matrix A, denoted A⁻¹, is a matrix such that A * A⁻¹ = A⁻¹ * A = I, where I is the identity matrix. The inverse exists only if the determinant is non-zero.\n",
        "*   **Eigenvalues and Eigenvectors:** Calculating the eigenvalues and eigenvectors of a square matrix. Eigenvalues are scalar values that represent how a transformation stretches or shrinks eigenvectors. Eigenvectors are non-zero vectors that do not change direction when a linear transformation is applied to them.\n",
        "*   **Solving Linear Systems:** Finding the vector x that satisfies the linear equation Ax = b, where A is a square matrix and b is a vector."
      ],
      "execution_count": 22,
      "outputs": [
        {
          "output_type": "display_data",
          "data": {
            "text/plain": [
              "<IPython.core.display.Markdown object>"
            ],
            "text/markdown": "## Linear Algebra with NumPy\n\nNumPy's `numpy.linalg` module provides a suite of standard linear algebra operations. These functions are highly optimized and can efficiently handle operations on large matrices and vectors. This module is widely used in various scientific and engineering fields for tasks ranging from solving systems of linear equations to analyzing the properties of matrices.\n\nKey linear algebra operations supported by `np.linalg` include:\n\n*   **Matrix Multiplication:** Multiplying two matrices or a matrix and a vector.\n*   **Determinant:** Calculating the determinant of a square matrix. The determinant is a scalar value that provides information about the matrix, such as whether an inverse exists.\n*   **Inverse:** Calculating the inverse of a square matrix. The inverse of a matrix A, denoted A⁻¹, is a matrix such that A * A⁻¹ = A⁻¹ * A = I, where I is the identity matrix. The inverse exists only if the determinant is non-zero.\n*   **Eigenvalues and Eigenvectors:** Calculating the eigenvalues and eigenvectors of a square matrix. Eigenvalues are scalar values that represent how a transformation stretches or shrinks eigenvectors. Eigenvectors are non-zero vectors that do not change direction when a linear transformation is applied to them.\n*   **Solving Linear Systems:** Finding the vector x that satisfies the linear equation Ax = b, where A is a square matrix and b is a vector.\n"
          },
          "metadata": {}
        }
      ]
    },
    {
      "cell_type": "markdown",
      "metadata": {
        "id": "0e676134"
      },
      "source": [
        "**Reasoning**:\n",
        "Demonstrate matrix multiplication, determinant, inverse, eigenvalues/eigenvectors, and solving a linear system using `np.linalg` as per instructions 4, 5, 6, 7, and 8. Include comments and print results with labels as per instruction 9.\n",
        "\n"
      ]
    },
    {
      "cell_type": "code",
      "metadata": {
        "colab": {
          "base_uri": "https://localhost:8080/"
        },
        "id": "a9a5fb9b",
        "outputId": "0dbce27a-e090-468e-911f-892b73e65462"
      },
      "source": [
        "# Import numpy if not already imported (check history)\n",
        "# import numpy as np\n",
        "\n",
        "# --- Matrix Multiplication ---\n",
        "print(\"--- Matrix Multiplication ---\")\n",
        "matrix_a = np.array([[1, 2], [3, 4]])\n",
        "matrix_b = np.array([[5, 6], [7, 8]])\n",
        "vector_v = np.array([1, 0])\n",
        "\n",
        "print(\"Matrix A:\\n\", matrix_a)\n",
        "print(\"Matrix B:\\n\", matrix_b)\n",
        "print(\"Vector v:\\n\", vector_v)\n",
        "\n",
        "# Matrix multiplication using the @ operator (preferred for matrix multiplication)\n",
        "matrix_product_at = matrix_a @ matrix_b\n",
        "print(\"\\nMatrix A @ Matrix B:\\n\", matrix_product_at)\n",
        "\n",
        "# Matrix multiplication using np.dot() (also works for matrix multiplication)\n",
        "matrix_product_dot = np.dot(matrix_a, matrix_b)\n",
        "print(\"Matrix A .dot Matrix B:\\n\", matrix_product_dot)\n",
        "\n",
        "# Matrix multiplication using np.matmul() (specifically for matrix products)\n",
        "matrix_product_matmul = np.matmul(matrix_a, matrix_b)\n",
        "print(\"Matrix A .matmul Matrix B:\\n\", matrix_product_matmul)\n",
        "\n",
        "# Matrix-vector multiplication\n",
        "matrix_vector_product = matrix_a @ vector_v\n",
        "print(\"\\nMatrix A @ Vector v:\\n\", matrix_vector_product)\n",
        "\n",
        "\n",
        "# --- Determinant ---\n",
        "print(\"\\n--- Determinant ---\")\n",
        "square_matrix = np.array([[1, 2], [3, 4]])\n",
        "print(\"Square Matrix:\\n\", square_matrix)\n",
        "\n",
        "# Calculate the determinant\n",
        "determinant_value = np.linalg.det(square_matrix)\n",
        "print(\"Determinant of the square matrix:\", determinant_value)\n",
        "\n",
        "# Example with a singular matrix (determinant should be close to 0)\n",
        "singular_matrix = np.array([[1, 2], [2, 4]])\n",
        "print(\"\\nSingular Matrix:\\n\", singular_matrix)\n",
        "determinant_singular = np.linalg.det(singular_matrix)\n",
        "print(\"Determinant of the singular matrix:\", determinant_singular)\n",
        "\n",
        "\n",
        "# --- Inverse ---\n",
        "print(\"\\n--- Inverse ---\")\n",
        "invertible_matrix = np.array([[1, 2], [3, 4]])\n",
        "print(\"Invertible Matrix:\\n\", invertible_matrix)\n",
        "\n",
        "# Calculate the inverse\n",
        "inverse_matrix = np.linalg.inv(invertible_matrix)\n",
        "print(\"Inverse of the invertible matrix:\\n\", inverse_matrix)\n",
        "\n",
        "# Verify the inverse (A * A_inv should be close to identity matrix)\n",
        "identity_check = invertible_matrix @ inverse_matrix\n",
        "print(\"Matrix * Inverse (should be identity):\\n\", identity_check)\n",
        "\n",
        "# Attempting to invert a singular matrix will raise a LinAlgError\n",
        "print(\"\\nAttempting to invert the Singular Matrix (expecting an error):\")\n",
        "try:\n",
        "    inverse_singular = np.linalg.inv(singular_matrix)\n",
        "    print(inverse_singular)\n",
        "except np.linalg.LinAlgError as e:\n",
        "    print(\"Inversion failed as expected:\", e)\n",
        "\n",
        "\n",
        "# --- Eigenvalues and Eigenvectors ---\n",
        "print(\"\\n--- Eigenvalues and Eigenvectors ---\")\n",
        "eigen_matrix = np.array([[2, 1], [1, 2]])\n",
        "print(\"Matrix for Eigenvalue/Eigenvector calculation:\\n\", eigen_matrix)\n",
        "\n",
        "# Calculate eigenvalues and eigenvectors\n",
        "eigenvalues, eigenvectors = np.linalg.eig(eigen_matrix)\n",
        "\n",
        "print(\"Eigenvalues:\", eigenvalues)\n",
        "print(\"Eigenvectors:\\n\", eigenvectors) # Each column is an eigenvector\n",
        "\n",
        "\n",
        "# --- Solving Linear Systems ---\n",
        "print(\"\\n--- Solving Linear Systems (Ax = b) ---\")\n",
        "# Consider the system of equations:\n",
        "# x + 2y = 5\n",
        "# 3x + 4y = 11\n",
        "\n",
        "# Represent the system in matrix form Ax = b\n",
        "# A = [[1, 2], [3, 4]]\n",
        "# x = [[x], [y]]\n",
        "# b = [[5], [11]]\n",
        "\n",
        "matrix_a_system = np.array([[1, 2], [3, 4]])\n",
        "vector_b_system = np.array([5, 11])\n",
        "\n",
        "print(\"Matrix A for the system:\\n\", matrix_a_system)\n",
        "print(\"Vector b for the system:\\n\", vector_b_system)\n",
        "\n",
        "# Solve the system Ax = b for x\n",
        "solution_x = np.linalg.solve(matrix_a_system, vector_b_system)\n",
        "print(\"Solution x (values for x and y):\", solution_x)\n",
        "\n",
        "# Verify the solution (A @ x should be equal to b)\n",
        "verification = matrix_a_system @ solution_x\n",
        "print(\"Verification (A @ x):\", verification) # Should be close to [5, 11]"
      ],
      "execution_count": 23,
      "outputs": [
        {
          "output_type": "stream",
          "name": "stdout",
          "text": [
            "--- Matrix Multiplication ---\n",
            "Matrix A:\n",
            " [[1 2]\n",
            " [3 4]]\n",
            "Matrix B:\n",
            " [[5 6]\n",
            " [7 8]]\n",
            "Vector v:\n",
            " [1 0]\n",
            "\n",
            "Matrix A @ Matrix B:\n",
            " [[19 22]\n",
            " [43 50]]\n",
            "Matrix A .dot Matrix B:\n",
            " [[19 22]\n",
            " [43 50]]\n",
            "Matrix A .matmul Matrix B:\n",
            " [[19 22]\n",
            " [43 50]]\n",
            "\n",
            "Matrix A @ Vector v:\n",
            " [1 3]\n",
            "\n",
            "--- Determinant ---\n",
            "Square Matrix:\n",
            " [[1 2]\n",
            " [3 4]]\n",
            "Determinant of the square matrix: -2.0000000000000004\n",
            "\n",
            "Singular Matrix:\n",
            " [[1 2]\n",
            " [2 4]]\n",
            "Determinant of the singular matrix: 0.0\n",
            "\n",
            "--- Inverse ---\n",
            "Invertible Matrix:\n",
            " [[1 2]\n",
            " [3 4]]\n",
            "Inverse of the invertible matrix:\n",
            " [[-2.   1. ]\n",
            " [ 1.5 -0.5]]\n",
            "Matrix * Inverse (should be identity):\n",
            " [[1.0000000e+00 0.0000000e+00]\n",
            " [8.8817842e-16 1.0000000e+00]]\n",
            "\n",
            "Attempting to invert the Singular Matrix (expecting an error):\n",
            "Inversion failed as expected: Singular matrix\n",
            "\n",
            "--- Eigenvalues and Eigenvectors ---\n",
            "Matrix for Eigenvalue/Eigenvector calculation:\n",
            " [[2 1]\n",
            " [1 2]]\n",
            "Eigenvalues: [3. 1.]\n",
            "Eigenvectors:\n",
            " [[ 0.70710678 -0.70710678]\n",
            " [ 0.70710678  0.70710678]]\n",
            "\n",
            "--- Solving Linear Systems (Ax = b) ---\n",
            "Matrix A for the system:\n",
            " [[1 2]\n",
            " [3 4]]\n",
            "Vector b for the system:\n",
            " [ 5 11]\n",
            "Solution x (values for x and y): [1. 2.]\n",
            "Verification (A @ x): [ 5. 11.]\n"
          ]
        }
      ]
    },
    {
      "cell_type": "markdown",
      "metadata": {
        "id": "b418ea1e"
      },
      "source": [
        "## Random number generation\n",
        "\n",
        "### Subtask:\n",
        "Explain how to generate random numbers and arrays using NumPy's random module.\n"
      ]
    },
    {
      "cell_type": "markdown",
      "metadata": {
        "id": "2a9630e5"
      },
      "source": [
        "**Reasoning**:\n",
        "Create a markdown cell to explain the purpose of the numpy.random module and introduce key functions.\n",
        "\n"
      ]
    },
    {
      "cell_type": "code",
      "metadata": {
        "colab": {
          "base_uri": "https://localhost:8080/",
          "height": 299
        },
        "id": "4d2f652a",
        "outputId": "6f8c601f-14f9-4845-dbfb-ddb423037920"
      },
      "source": [
        "%%markdown\n",
        "## Random Number Generation with NumPy\n",
        "\n",
        "Generating random numbers is a common task in various computational fields, including simulations, statistical modeling, data generation, and machine learning (e.g., initializing weights or splitting data). NumPy's `numpy.random` module is the standard library in Python for generating pseudo-random numbers and arrays efficiently.\n",
        "\n",
        "The `numpy.random` module offers a wide variety of functions for generating random data from different distributions. Some of the key functions include:\n",
        "\n",
        "*   **`rand(d0, d1, ..., dn)`**: Generates random numbers from a **uniform distribution** over `[0, 1)` in the specified shape.\n",
        "*   **`randn(d0, d1, ..., dn)`**: Generates random numbers from the **standard normal distribution** (mean 0, variance 1) in the specified shape.\n",
        "*   **`randint(low, high=None, size=None, dtype=int)`**: Generates random **integers** from `low` (inclusive) to `high` (exclusive).\n",
        "*   **`random(size=None)`**: Generates random **floats** in the half-open interval `[0.0, 1.0)` (similar to `rand()` but with a different signature).\n",
        "*   **`choice(a, size=None, replace=True, p=None)`**: Generates a random sample from a given 1-D array or sequence `a`. Can sample with or without replacement, and with specified probabilities.\n",
        "*   **`shuffle(x)`**: Shuffles the elements of an array `x` **in place** along the first axis. For multi-dimensional arrays, it shuffles rows.\n",
        "\n",
        "These functions provide the flexibility needed to generate random data for a wide range of applications."
      ],
      "execution_count": 24,
      "outputs": [
        {
          "output_type": "display_data",
          "data": {
            "text/plain": [
              "<IPython.core.display.Markdown object>"
            ],
            "text/markdown": "## Random Number Generation with NumPy\n\nGenerating random numbers is a common task in various computational fields, including simulations, statistical modeling, data generation, and machine learning (e.g., initializing weights or splitting data). NumPy's `numpy.random` module is the standard library in Python for generating pseudo-random numbers and arrays efficiently.\n\nThe `numpy.random` module offers a wide variety of functions for generating random data from different distributions. Some of the key functions include:\n\n*   **`rand(d0, d1, ..., dn)`**: Generates random numbers from a **uniform distribution** over `[0, 1)` in the specified shape.\n*   **`randn(d0, d1, ..., dn)`**: Generates random numbers from the **standard normal distribution** (mean 0, variance 1) in the specified shape.\n*   **`randint(low, high=None, size=None, dtype=int)`**: Generates random **integers** from `low` (inclusive) to `high` (exclusive).\n*   **`random(size=None)`**: Generates random **floats** in the half-open interval `[0.0, 1.0)` (similar to `rand()` but with a different signature).\n*   **`choice(a, size=None, replace=True, p=None)`**: Generates a random sample from a given 1-D array or sequence `a`. Can sample with or without replacement, and with specified probabilities.\n*   **`shuffle(x)`**: Shuffles the elements of an array `x` **in place** along the first axis. For multi-dimensional arrays, it shuffles rows.\n\nThese functions provide the flexibility needed to generate random data for a wide range of applications.\n"
          },
          "metadata": {}
        }
      ]
    },
    {
      "cell_type": "markdown",
      "metadata": {
        "id": "46f2320d"
      },
      "source": [
        "**Reasoning**:\n",
        "Demonstrate the usage of the mentioned random number generation functions with examples and print the results.\n",
        "\n"
      ]
    },
    {
      "cell_type": "code",
      "metadata": {
        "colab": {
          "base_uri": "https://localhost:8080/"
        },
        "id": "8b721f45",
        "outputId": "8d370070-3a86-4ef6-c38f-1a6252e652b4"
      },
      "source": [
        "import numpy as np\n",
        "\n",
        "print(\"--- NumPy Random Number Generation Demonstrations ---\")\n",
        "\n",
        "# 1. Generate random numbers from a uniform distribution (rand)\n",
        "# Generate a single random float in [0, 1)\n",
        "random_float_rand = np.random.rand()\n",
        "print(\"\\nSingle random float from uniform distribution [0, 1):\", random_float_rand)\n",
        "\n",
        "# Generate a 2x3 array of random floats from uniform distribution [0, 1)\n",
        "random_array_rand = np.random.rand(2, 3)\n",
        "print(\"\\n2x3 array from uniform distribution [0, 1):\\n\", random_array_rand)\n",
        "\n",
        "# 2. Generate random numbers from a standard normal distribution (randn)\n",
        "# Generate a single random float from standard normal distribution\n",
        "random_float_randn = np.random.randn()\n",
        "print(\"\\nSingle random float from standard normal distribution (mean 0, var 1):\", random_float_randn)\n",
        "\n",
        "# Generate a 3x2 array of random floats from standard normal distribution\n",
        "random_array_randn = np.random.randn(3, 2)\n",
        "print(\"\\n3x2 array from standard normal distribution (mean 0, var 1):\\n\", random_array_randn)\n",
        "\n",
        "# 3. Generate random integers within a specified range (randint)\n",
        "# Generate a single random integer between 0 (inclusive) and 10 (exclusive)\n",
        "random_int = np.random.randint(0, 10)\n",
        "print(\"\\nSingle random integer between 0 and 10:\", random_int)\n",
        "\n",
        "# Generate a 4-element 1D array of random integers between 5 (inclusive) and 20 (exclusive)\n",
        "random_int_array = np.random.randint(5, 20, size=4)\n",
        "print(\"\\n1D array of random integers between 5 and 20:\", random_int_array)\n",
        "\n",
        "# Generate a 2x2 array of random integers between 100 (inclusive) and 201 (exclusive)\n",
        "random_int_2d_array = np.random.randint(100, 201, size=(2, 2))\n",
        "print(\"\\n2x2 array of random integers between 100 and 201:\\n\", random_int_2d_array)\n",
        "\n",
        "\n",
        "# 4. Generate random floats in the half-open interval [0.0, 1.0) (random)\n",
        "# Generate a single random float in [0.0, 1.0)\n",
        "random_float_random = np.random.random()\n",
        "print(\"\\nSingle random float in [0.0, 1.0):\", random_float_random)\n",
        "\n",
        "# Generate a 1D array of 5 random floats in [0.0, 1.0)\n",
        "random_array_random = np.random.random(size=5)\n",
        "print(\"\\n1D array of 5 random floats in [0.0, 1.0):\", random_array_random)\n",
        "\n",
        "\n",
        "# 5. Generate random samples from a given 1-D array or sequence (choice)\n",
        "elements = [10, 20, 30, 40, 50, 60]\n",
        "print(\"\\nOriginal elements for choice:\", elements)\n",
        "\n",
        "# Sample a single element with replacement\n",
        "sample_single = np.random.choice(elements)\n",
        "print(\"Single random sample from elements:\", sample_single)\n",
        "\n",
        "# Sample 3 elements with replacement\n",
        "sample_replace = np.random.choice(elements, size=3, replace=True)\n",
        "print(\"3 random samples with replacement:\", sample_replace)\n",
        "\n",
        "# Sample 4 elements without replacement (requires size <= number of elements)\n",
        "sample_no_replace = np.random.choice(elements, size=4, replace=False)\n",
        "print(\"4 random samples without replacement:\", sample_no_replace)\n",
        "\n",
        "# Sample with specified probabilities\n",
        "probabilities = [0.1, 0.1, 0.5, 0.1, 0.1, 0.1] # Probabilities must sum to 1\n",
        "sample_weighted = np.random.choice(elements, size=5, p=probabilities)\n",
        "print(\"5 random samples with specified probabilities:\", sample_weighted)\n",
        "\n",
        "# 6. Shuffling the elements of an array in place (shuffle)\n",
        "original_array = np.array([1, 2, 3, 4, 5, 6, 7, 8, 9, 10])\n",
        "print(\"\\nOriginal array for shuffling:\", original_array)\n",
        "\n",
        "# Shuffle the array in place\n",
        "np.random.shuffle(original_array)\n",
        "print(\"Array after shuffling:\", original_array)\n",
        "\n",
        "# Example with a 2D array (shuffles rows)\n",
        "original_2d_array = np.array([[1, 2, 3],\n",
        "                              [4, 5, 6],\n",
        "                              [7, 8, 9],\n",
        "                              [10, 11, 12]])\n",
        "print(\"\\nOriginal 2D array for shuffling:\\n\", original_2d_array)\n",
        "\n",
        "# Shuffle the 2D array (shuffles rows)\n",
        "np.random.shuffle(original_2d_array)\n",
        "print(\"2D array after shuffling rows:\\n\", original_2d_array)"
      ],
      "execution_count": 25,
      "outputs": [
        {
          "output_type": "stream",
          "name": "stdout",
          "text": [
            "--- NumPy Random Number Generation Demonstrations ---\n",
            "\n",
            "Single random float from uniform distribution [0, 1): 0.05564823756231385\n",
            "\n",
            "2x3 array from uniform distribution [0, 1):\n",
            " [[0.97297107 0.21348989 0.96957539]\n",
            " [0.41710735 0.64056669 0.83320615]]\n",
            "\n",
            "Single random float from standard normal distribution (mean 0, var 1): -0.05390216346442159\n",
            "\n",
            "3x2 array from standard normal distribution (mean 0, var 1):\n",
            " [[ 2.49478321 -0.12505202]\n",
            " [-1.17372267 -0.65929077]\n",
            " [ 0.13092104 -0.30021009]]\n",
            "\n",
            "Single random integer between 0 and 10: 9\n",
            "\n",
            "1D array of random integers between 5 and 20: [10 10 14 10]\n",
            "\n",
            "2x2 array of random integers between 100 and 201:\n",
            " [[175 177]\n",
            " [163 133]]\n",
            "\n",
            "Single random float in [0.0, 1.0): 0.8248026126910106\n",
            "\n",
            "1D array of 5 random floats in [0.0, 1.0): [0.97838935 0.60822348 0.24591707 0.37832944 0.47530134]\n",
            "\n",
            "Original elements for choice: [10, 20, 30, 40, 50, 60]\n",
            "Single random sample from elements: 30\n",
            "3 random samples with replacement: [10 20 50]\n",
            "4 random samples without replacement: [20 10 60 50]\n",
            "5 random samples with specified probabilities: [30 40 30 30 40]\n",
            "\n",
            "Original array for shuffling: [ 1  2  3  4  5  6  7  8  9 10]\n",
            "Array after shuffling: [ 8  1  7  5  2  6  9  4 10  3]\n",
            "\n",
            "Original 2D array for shuffling:\n",
            " [[ 1  2  3]\n",
            " [ 4  5  6]\n",
            " [ 7  8  9]\n",
            " [10 11 12]]\n",
            "2D array after shuffling rows:\n",
            " [[ 4  5  6]\n",
            " [ 7  8  9]\n",
            " [10 11 12]\n",
            " [ 1  2  3]]\n"
          ]
        }
      ]
    },
    {
      "cell_type": "markdown",
      "metadata": {
        "id": "918a3d47"
      },
      "source": [
        "## Saving and loading arrays\n",
        "\n",
        "### Subtask:\n",
        "Cover how to save and load NumPy arrays to and from files.\n"
      ]
    },
    {
      "cell_type": "markdown",
      "metadata": {
        "id": "04dcd925"
      },
      "source": [
        "**Reasoning**:\n",
        "Add a markdown cell to explain how to save and load NumPy arrays using `np.save`, `np.load`, `np.savez`, and `np.savez_compressed`, describing the file formats and use cases.\n",
        "\n"
      ]
    },
    {
      "cell_type": "code",
      "metadata": {
        "colab": {
          "base_uri": "https://localhost:8080/",
          "height": 864
        },
        "id": "6226012e",
        "outputId": "3dbb7936-af29-4e82-f84f-af6e3cc433c0"
      },
      "source": [
        "%%markdown\n",
        "## Saving and Loading NumPy Arrays\n",
        "\n",
        "Saving and loading data is a crucial part of any data workflow. NumPy provides simple and efficient ways to save arrays to disk and load them back into memory. The module offers functions to save single arrays and multiple arrays, in both uncompressed and compressed formats.\n",
        "\n",
        "NumPy's primary format for saving single arrays is the **`.npy`** format, and for saving multiple arrays is the **`.npz`** format. These formats are designed to store NumPy array data efficiently while preserving shape and data type.\n",
        "\n",
        "### Saving Single Arrays: `np.save()`\n",
        "\n",
        "The `np.save()` function saves a single NumPy array to a file in the `.npy` format. This format is the standard binary file format for persisting a single arbitrary NumPy array on disk.\n",
        "\n",
        "Syntax: `np.save(file, arr, allow_pickle=True, fix_imports=True)`\n",
        "\n",
        "*   `file`: A file path or a file-like object.\n",
        "*   `arr`: The array to be saved.\n",
        "*   `allow_pickle`: Allows saving arrays of object type (use with caution).\n",
        "*   `fix_imports`: Used when saving object arrays.\n",
        "\n",
        "### Loading Single Arrays: `np.load()`\n",
        "\n",
        "The `np.load()` function is used to load data from `.npy` and `.npz` files. When loading a `.npy` file, it returns the array.\n",
        "\n",
        "Syntax: `np.load(file, mmap_mode=None, allow_pickle=False, fix_imports=True, encoding='ASCII')`\n",
        "\n",
        "*   `file`: A file path or a file-like object.\n",
        "*   `mmap_mode`: Memory map mode. Useful for large files to avoid reading the entire file into memory.\n",
        "*   `allow_pickle`: Allows loading arrays of object type (use with caution). Defaults to False for security reasons.\n",
        "*   `fix_imports`, `encoding`: Used when loading data saved with older Python versions.\n",
        "\n",
        "### Saving Multiple Arrays: `np.savez()`\n",
        "\n",
        "The `np.savez()` function saves multiple NumPy arrays into a single file in an uncompressed `.npz` format. The `.npz` format is a zip archive containing one `.npy` file for each array. You can save arrays using keyword arguments, where the keyword becomes the name of the array within the archive.\n",
        "\n",
        "Syntax: `np.savez(file, *args, **kwds)`\n",
        "\n",
        "*   `file`: A file path or a file-like object.\n",
        "*   `*args`: Arrays to save anonymously (will be saved as `arr_0`, `arr_1`, etc.).\n",
        "*   `**kwds`: Arrays to save with specific names (e.g., `array_name=array_object`).\n",
        "\n",
        "### Saving Multiple Arrays (Compressed): `np.savez_compressed()`\n",
        "\n",
        "Similar to `np.savez()`, the `np.savez_compressed()` function saves multiple arrays into a single file in a compressed `.npz` format. This is useful when the data contains a lot of zeros or repetitive values, as compression can significantly reduce file size.\n",
        "\n",
        "Syntax: `np.savez_compressed(file, *args, **kwds)`\n",
        "\n",
        "*   Parameters are the same as `np.savez()`.\n",
        "\n",
        "### Loading Multiple Arrays from `.npz` Files\n",
        "\n",
        "When `np.load()` is used to load a `.npz` file (created by `np.savez()` or `np.savez_compressed()`), it returns a dictionary-like object (specifically, an `NpzFile` object). You can access the individual arrays within this object using the names they were saved with (either the provided keyword names or the default `arr_0`, `arr_1`, etc.).\n"
      ],
      "execution_count": 26,
      "outputs": [
        {
          "output_type": "display_data",
          "data": {
            "text/plain": [
              "<IPython.core.display.Markdown object>"
            ],
            "text/markdown": "## Saving and Loading NumPy Arrays\n\nSaving and loading data is a crucial part of any data workflow. NumPy provides simple and efficient ways to save arrays to disk and load them back into memory. The module offers functions to save single arrays and multiple arrays, in both uncompressed and compressed formats.\n\nNumPy's primary format for saving single arrays is the **`.npy`** format, and for saving multiple arrays is the **`.npz`** format. These formats are designed to store NumPy array data efficiently while preserving shape and data type.\n\n### Saving Single Arrays: `np.save()`\n\nThe `np.save()` function saves a single NumPy array to a file in the `.npy` format. This format is the standard binary file format for persisting a single arbitrary NumPy array on disk.\n\nSyntax: `np.save(file, arr, allow_pickle=True, fix_imports=True)`\n\n*   `file`: A file path or a file-like object.\n*   `arr`: The array to be saved.\n*   `allow_pickle`: Allows saving arrays of object type (use with caution).\n*   `fix_imports`: Used when saving object arrays.\n\n### Loading Single Arrays: `np.load()`\n\nThe `np.load()` function is used to load data from `.npy` and `.npz` files. When loading a `.npy` file, it returns the array.\n\nSyntax: `np.load(file, mmap_mode=None, allow_pickle=False, fix_imports=True, encoding='ASCII')`\n\n*   `file`: A file path or a file-like object.\n*   `mmap_mode`: Memory map mode. Useful for large files to avoid reading the entire file into memory.\n*   `allow_pickle`: Allows loading arrays of object type (use with caution). Defaults to False for security reasons.\n*   `fix_imports`, `encoding`: Used when loading data saved with older Python versions.\n\n### Saving Multiple Arrays: `np.savez()`\n\nThe `np.savez()` function saves multiple NumPy arrays into a single file in an uncompressed `.npz` format. The `.npz` format is a zip archive containing one `.npy` file for each array. You can save arrays using keyword arguments, where the keyword becomes the name of the array within the archive.\n\nSyntax: `np.savez(file, *args, **kwds)`\n\n*   `file`: A file path or a file-like object.\n*   `*args`: Arrays to save anonymously (will be saved as `arr_0`, `arr_1`, etc.).\n*   `**kwds`: Arrays to save with specific names (e.g., `array_name=array_object`).\n\n### Saving Multiple Arrays (Compressed): `np.savez_compressed()`\n\nSimilar to `np.savez()`, the `np.savez_compressed()` function saves multiple arrays into a single file in a compressed `.npz` format. This is useful when the data contains a lot of zeros or repetitive values, as compression can significantly reduce file size.\n\nSyntax: `np.savez_compressed(file, *args, **kwds)`\n\n*   Parameters are the same as `np.savez()`.\n\n### Loading Multiple Arrays from `.npz` Files\n\nWhen `np.load()` is used to load a `.npz` file (created by `np.savez()` or `np.savez_compressed()`), it returns a dictionary-like object (specifically, an `NpzFile` object). You can access the individual arrays within this object using the names they were saved with (either the provided keyword names or the default `arr_0`, `arr_1`, etc.).\n"
          },
          "metadata": {}
        }
      ]
    },
    {
      "cell_type": "markdown",
      "metadata": {
        "id": "f23b1b1d"
      },
      "source": [
        "**Reasoning**:\n",
        "Demonstrate saving and loading single and multiple NumPy arrays using `np.save`, `np.load`, `np.savez`, and `np.savez_compressed` in a single code cell, following all the steps in the instructions.\n",
        "\n"
      ]
    },
    {
      "cell_type": "code",
      "metadata": {
        "colab": {
          "base_uri": "https://localhost:8080/"
        },
        "id": "3e6eb29c",
        "outputId": "4dc88b8f-a394-44fd-9d1f-2f85772c570c"
      },
      "source": [
        "import numpy as np\n",
        "import os # Import os to manage files\n",
        "\n",
        "# --- Demonstration of Saving and Loading Single Arrays (.npy) ---\n",
        "print(\"--- Saving and Loading Single Arrays (.npy) ---\")\n",
        "\n",
        "# Create a sample array\n",
        "single_array = np.array([1, 2, 3, 4, 5, 6])\n",
        "print(\"Original single array:\", single_array)\n",
        "\n",
        "# Define the filename\n",
        "npy_filename = 'single_array.npy'\n",
        "\n",
        "# Save the array to a .npy file\n",
        "print(f\"Saving single array to {npy_filename}...\")\n",
        "np.save(npy_filename, single_array)\n",
        "print(f\"{npy_filename} saved successfully.\")\n",
        "\n",
        "# Load the array from the .npy file\n",
        "print(f\"Loading single array from {npy_filename}...\")\n",
        "loaded_single_array = np.load(npy_filename)\n",
        "print(\"Loaded single array:\", loaded_single_array)\n",
        "\n",
        "# Verify that the loaded array is the same as the original\n",
        "print(\"Verification: Are original and loaded single arrays equal?\", np.array_equal(single_array, loaded_single_array))\n",
        "\n",
        "# Clean up the created file\n",
        "os.remove(npy_filename)\n",
        "print(f\"{npy_filename} removed.\")\n",
        "\n",
        "\n",
        "# --- Demonstration of Saving and Loading Multiple Arrays (.npz) ---\n",
        "print(\"\\n--- Saving and Loading Multiple Arrays (.npz) ---\")\n",
        "\n",
        "# Create sample arrays\n",
        "array1 = np.arange(10)\n",
        "array2 = np.linspace(0, 1, 5)\n",
        "array3 = np.random.rand(2, 2)\n",
        "\n",
        "print(\"Original array1:\", array1)\n",
        "print(\"Original array2:\", array2)\n",
        "print(\"Original array3:\\n\", array3)\n",
        "\n",
        "# Define the filename\n",
        "npz_filename = 'multiple_arrays.npz'\n",
        "\n",
        "# Save the arrays to an uncompressed .npz file with names\n",
        "print(f\"\\nSaving multiple arrays to uncompressed {npz_filename}...\")\n",
        "np.savez(npz_filename, arr1=array1, my_linear_array=array2, random_matrix=array3)\n",
        "print(f\"{npz_filename} saved successfully.\")\n",
        "\n",
        "# Load the arrays from the uncompressed .npz file\n",
        "print(f\"Loading multiple arrays from {npz_filename}...\")\n",
        "loaded_npz = np.load(npz_filename)\n",
        "\n",
        "# Access the individual arrays using the assigned names\n",
        "loaded_array1 = loaded_npz['arr1']\n",
        "loaded_array2 = loaded_npz['my_linear_array']\n",
        "loaded_array3 = loaded_npz['random_matrix']\n",
        "\n",
        "print(\"Loaded array 'arr1':\", loaded_array1)\n",
        "print(\"Loaded array 'my_linear_array':\", loaded_array2)\n",
        "print(\"Loaded array 'random_matrix':\\n\", loaded_array3)\n",
        "\n",
        "# Verify that the loaded arrays are the same as the originals\n",
        "print(\"Verification: Are original array1 and loaded 'arr1' equal?\", np.array_equal(array1, loaded_array1))\n",
        "print(\"Verification: Are original array2 and loaded 'my_linear_array' equal?\", np.array_equal(array2, loaded_array2))\n",
        "print(\"Verification: Are original array3 and loaded 'random_matrix' equal?\", np.array_equal(array3, loaded_array3))\n",
        "\n",
        "# It's good practice to close the NpzFile object when done\n",
        "loaded_npz.close()\n",
        "\n",
        "# Clean up the created file\n",
        "os.remove(npz_filename)\n",
        "print(f\"{npz_filename} removed.\")\n",
        "\n",
        "\n",
        "# --- Demonstration of Saving and Loading Multiple Arrays (Compressed .npz) ---\n",
        "print(\"\\n--- Saving and Loading Multiple Arrays (Compressed .npz) ---\")\n",
        "\n",
        "# Use the same sample arrays (array1, array2, array3)\n",
        "\n",
        "# Define the filename for the compressed file\n",
        "npz_compressed_filename = 'multiple_arrays_compressed.npz'\n",
        "\n",
        "# Save the arrays to a compressed .npz file with names\n",
        "print(f\"\\nSaving multiple arrays to compressed {npz_compressed_filename}...\")\n",
        "np.savez_compressed(npz_compressed_filename, arr1=array1, my_linear_array=array2, random_matrix=array3)\n",
        "print(f\"{npz_compressed_filename} saved successfully.\")\n",
        "\n",
        "# Load the arrays from the compressed .npz file\n",
        "print(f\"Loading multiple arrays from {npz_compressed_filename}...\")\n",
        "loaded_npz_compressed = np.load(npz_compressed_filename)\n",
        "\n",
        "# Access the individual arrays using the assigned names\n",
        "loaded_array1_comp = loaded_npz_compressed['arr1']\n",
        "loaded_array2_comp = loaded_npz_compressed['my_linear_array']\n",
        "loaded_array3_comp = loaded_npz_compressed['random_matrix']\n",
        "\n",
        "print(\"Loaded compressed array 'arr1':\", loaded_array1_comp)\n",
        "print(\"Loaded compressed array 'my_linear_array':\", loaded_array2_comp)\n",
        "print(\"Loaded compressed array 'random_matrix':\\n\", loaded_array3_comp)\n",
        "\n",
        "# Verify that the loaded compressed arrays are the same as the originals\n",
        "print(\"Verification: Are original array1 and loaded compressed 'arr1' equal?\", np.array_equal(array1, loaded_array1_comp))\n",
        "print(\"Verification: Are original array2 and loaded compressed 'my_linear_array' equal?\", np.array_equal(array2, loaded_array2_comp))\n",
        "print(\"Verification: Are original array3 and loaded compressed 'random_matrix' equal?\", np.array_equal(array3, loaded_array3_comp))\n",
        "\n",
        "# Close the NpzFile object\n",
        "loaded_npz_compressed.close()\n",
        "\n",
        "# Clean up the created file\n",
        "os.remove(npz_compressed_filename)\n",
        "print(f\"{npz_compressed_filename} removed.\")"
      ],
      "execution_count": 27,
      "outputs": [
        {
          "output_type": "stream",
          "name": "stdout",
          "text": [
            "--- Saving and Loading Single Arrays (.npy) ---\n",
            "Original single array: [1 2 3 4 5 6]\n",
            "Saving single array to single_array.npy...\n",
            "single_array.npy saved successfully.\n",
            "Loading single array from single_array.npy...\n",
            "Loaded single array: [1 2 3 4 5 6]\n",
            "Verification: Are original and loaded single arrays equal? True\n",
            "single_array.npy removed.\n",
            "\n",
            "--- Saving and Loading Multiple Arrays (.npz) ---\n",
            "Original array1: [0 1 2 3 4 5 6 7 8 9]\n",
            "Original array2: [0.   0.25 0.5  0.75 1.  ]\n",
            "Original array3:\n",
            " [[0.99773197 0.40807616]\n",
            " [0.67043976 0.56323989]]\n",
            "\n",
            "Saving multiple arrays to uncompressed multiple_arrays.npz...\n",
            "multiple_arrays.npz saved successfully.\n",
            "Loading multiple arrays from multiple_arrays.npz...\n",
            "Loaded array 'arr1': [0 1 2 3 4 5 6 7 8 9]\n",
            "Loaded array 'my_linear_array': [0.   0.25 0.5  0.75 1.  ]\n",
            "Loaded array 'random_matrix':\n",
            " [[0.99773197 0.40807616]\n",
            " [0.67043976 0.56323989]]\n",
            "Verification: Are original array1 and loaded 'arr1' equal? True\n",
            "Verification: Are original array2 and loaded 'my_linear_array' equal? True\n",
            "Verification: Are original array3 and loaded 'random_matrix' equal? True\n",
            "multiple_arrays.npz removed.\n",
            "\n",
            "--- Saving and Loading Multiple Arrays (Compressed .npz) ---\n",
            "\n",
            "Saving multiple arrays to compressed multiple_arrays_compressed.npz...\n",
            "multiple_arrays_compressed.npz saved successfully.\n",
            "Loading multiple arrays from multiple_arrays_compressed.npz...\n",
            "Loaded compressed array 'arr1': [0 1 2 3 4 5 6 7 8 9]\n",
            "Loaded compressed array 'my_linear_array': [0.   0.25 0.5  0.75 1.  ]\n",
            "Loaded compressed array 'random_matrix':\n",
            " [[0.99773197 0.40807616]\n",
            " [0.67043976 0.56323989]]\n",
            "Verification: Are original array1 and loaded compressed 'arr1' equal? True\n",
            "Verification: Are original array2 and loaded compressed 'my_linear_array' equal? True\n",
            "Verification: Are original array3 and loaded compressed 'random_matrix' equal? True\n",
            "multiple_arrays_compressed.npz removed.\n"
          ]
        }
      ]
    },
    {
      "cell_type": "markdown",
      "metadata": {
        "id": "a10488fb"
      },
      "source": [
        "## Advanced numpy concepts\n",
        "\n",
        "### Subtask:\n",
        "Briefly touch upon more advanced topics like universal functions (ufuncs) and structured arrays.\n"
      ]
    },
    {
      "cell_type": "markdown",
      "metadata": {
        "id": "f3d60eca"
      },
      "source": [
        "**Reasoning**:\n",
        "Add a markdown cell with the level 2 heading and the first level 3 heading for universal functions, explaining what they are and giving examples.\n",
        "\n"
      ]
    },
    {
      "cell_type": "code",
      "metadata": {
        "colab": {
          "base_uri": "https://localhost:8080/",
          "height": 301
        },
        "id": "7cc7255c",
        "outputId": "a9154866-5e91-4bb2-f320-bc553e867a77"
      },
      "source": [
        "%%markdown\n",
        "## Advanced NumPy Concepts\n",
        "\n",
        "### Universal Functions (ufuncs)\n",
        "\n",
        "Universal functions, or ufuncs for short, are the core of NumPy's power for performing fast element-wise operations. A ufunc is a function that operates on `ndarray`s in an element-by-element fashion, supporting broadcasting, type casting, and other standard features.\n",
        "\n",
        "The primary benefits of using ufuncs are speed and flexibility. Because ufuncs are implemented in compiled C code, they are significantly faster than equivalent operations written in pure Python (e.g., using loops). They also automatically handle broadcasting, allowing operations on arrays of different, but compatible, shapes.\n",
        "\n",
        "Examples of common ufuncs include:\n",
        "*   Arithmetic operators: `np.add`, `np.subtract`, `np.multiply`, `np.divide`, `np.power`\n",
        "*   Trigonometric functions: `np.sin`, `np.cos`, `np.tan`, `np.arcsin`\n",
        "*   Mathematical functions: `np.sqrt`, `np.exp`, `np.log`, `np.abs`\n",
        "*   Comparison operators: `np.equal`, `np.not_equal`, `np.greater`, `np.less`"
      ],
      "execution_count": 28,
      "outputs": [
        {
          "output_type": "display_data",
          "data": {
            "text/plain": [
              "<IPython.core.display.Markdown object>"
            ],
            "text/markdown": "## Advanced NumPy Concepts\n\n### Universal Functions (ufuncs)\n\nUniversal functions, or ufuncs for short, are the core of NumPy's power for performing fast element-wise operations. A ufunc is a function that operates on `ndarray`s in an element-by-element fashion, supporting broadcasting, type casting, and other standard features.\n\nThe primary benefits of using ufuncs are speed and flexibility. Because ufuncs are implemented in compiled C code, they are significantly faster than equivalent operations written in pure Python (e.g., using loops). They also automatically handle broadcasting, allowing operations on arrays of different, but compatible, shapes.\n\nExamples of common ufuncs include:\n*   Arithmetic operators: `np.add`, `np.subtract`, `np.multiply`, `np.divide`, `np.power`\n*   Trigonometric functions: `np.sin`, `np.cos`, `np.tan`, `np.arcsin`\n*   Mathematical functions: `np.sqrt`, `np.exp`, `np.log`, `np.abs`\n*   Comparison operators: `np.equal`, `np.not_equal`, `np.greater`, `np.less`\n"
          },
          "metadata": {}
        }
      ]
    },
    {
      "cell_type": "markdown",
      "metadata": {
        "id": "81db0f5c"
      },
      "source": [
        "**Reasoning**:\n",
        "Add the level 3 heading for structured arrays and explain what they are, their use cases, and how they are defined, as per the instructions.\n",
        "\n"
      ]
    },
    {
      "cell_type": "code",
      "metadata": {
        "colab": {
          "base_uri": "https://localhost:8080/",
          "height": 164
        },
        "id": "97e983c0",
        "outputId": "793c63b3-9329-49ef-ea52-f61e5f39e430"
      },
      "source": [
        "%%markdown\n",
        "\n",
        "### Structured Arrays\n",
        "\n",
        "Structured arrays are `ndarray`s where each element is a structure, similar to structs in C or rows in a database table. This allows you to have elements with different data types in different \"columns\" or \"fields\" within the same array.\n",
        "\n",
        "They are particularly useful for representing tabular data where each row represents a record and each column represents a field with a potentially different data type (e.g., name, age, score).\n",
        "\n",
        "You define the structure of a structured array using a `dtype` object, specifying the name and data type for each field.\n"
      ],
      "execution_count": 29,
      "outputs": [
        {
          "output_type": "display_data",
          "data": {
            "text/plain": [
              "<IPython.core.display.Markdown object>"
            ],
            "text/markdown": "\n### Structured Arrays\n\nStructured arrays are `ndarray`s where each element is a structure, similar to structs in C or rows in a database table. This allows you to have elements with different data types in different \"columns\" or \"fields\" within the same array.\n\nThey are particularly useful for representing tabular data where each row represents a record and each column represents a field with a potentially different data type (e.g., name, age, score).\n\nYou define the structure of a structured array using a `dtype` object, specifying the name and data type for each field.\n"
          },
          "metadata": {}
        }
      ]
    },
    {
      "cell_type": "markdown",
      "metadata": {
        "id": "d03928c9"
      },
      "source": [
        "**Reasoning**:\n",
        "Add a code cell to demonstrate both ufuncs and structured arrays as described in the markdown cells.\n",
        "\n"
      ]
    },
    {
      "cell_type": "code",
      "metadata": {
        "colab": {
          "base_uri": "https://localhost:8080/"
        },
        "id": "4141b69f",
        "outputId": "1cde888a-9a8e-4eee-d9df-625213c11626"
      },
      "source": [
        "import numpy as np\n",
        "\n",
        "print(\"--- Universal Functions (ufuncs) Demonstration ---\")\n",
        "\n",
        "# Demonstrate ufuncs\n",
        "arr_ufunc = np.array([1, 4, 9, 16, 25])\n",
        "print(\"\\nOriginal array for ufunc:\", arr_ufunc)\n",
        "\n",
        "# Applying np.sqrt (a ufunc)\n",
        "sqrt_arr = np.sqrt(arr_ufunc)\n",
        "print(\"Result of np.sqrt():\", sqrt_arr)\n",
        "\n",
        "# Using np.add (a ufunc) - equivalent to + operator\n",
        "arr_add1 = np.array([1, 2, 3])\n",
        "arr_add2 = np.array([4, 5, 6])\n",
        "add_result_ufunc = np.add(arr_add1, arr_add2)\n",
        "print(\"Original arrays for np.add:\", arr_add1, arr_add2)\n",
        "print(\"Result of np.add():\", add_result_ufunc)\n",
        "\n",
        "# --- Structured Arrays Demonstration ---\n",
        "print(\"\\n--- Structured Arrays Demonstration ---\")\n",
        "\n",
        "# Define a dtype for a structured array\n",
        "data_type = np.dtype([('name', 'S10'), ('age', 'i4'), ('score', 'f8')])\n",
        "\n",
        "# Create a structured array using the defined dtype and sample data\n",
        "# Note: String fields need to be bytes (b'...') or will be truncated if too long\n",
        "structured_arr = np.array([('Alice', 25, 85.5),\n",
        "                           ('Bob', 30, 92.0),\n",
        "                           ('Charlie', 22, 78.3)], dtype=data_type)\n",
        "\n",
        "# Print the entire structured array\n",
        "print(\"\\nStructured Array:\")\n",
        "print(structured_arr)\n",
        "\n",
        "# Demonstrate accessing fields by name\n",
        "print(\"\\nAccessing 'name' field:\", structured_arr['name'])\n",
        "print(\"Accessing 'score' field:\", structured_arr['score'])"
      ],
      "execution_count": 30,
      "outputs": [
        {
          "output_type": "stream",
          "name": "stdout",
          "text": [
            "--- Universal Functions (ufuncs) Demonstration ---\n",
            "\n",
            "Original array for ufunc: [ 1  4  9 16 25]\n",
            "Result of np.sqrt(): [1. 2. 3. 4. 5.]\n",
            "Original arrays for np.add: [1 2 3] [4 5 6]\n",
            "Result of np.add(): [5 7 9]\n",
            "\n",
            "--- Structured Arrays Demonstration ---\n",
            "\n",
            "Structured Array:\n",
            "[(b'Alice', 25, 85.5) (b'Bob', 30, 92. ) (b'Charlie', 22, 78.3)]\n",
            "\n",
            "Accessing 'name' field: [b'Alice' b'Bob' b'Charlie']\n",
            "Accessing 'score' field: [85.5 92.  78.3]\n"
          ]
        }
      ]
    },
    {
      "cell_type": "markdown",
      "metadata": {
        "id": "59134aad"
      },
      "source": [
        "## Conclusion\n",
        "\n",
        "### Subtask:\n",
        "Summarize the key takeaways from the NumPy tutorial and point to further resources.\n"
      ]
    },
    {
      "cell_type": "markdown",
      "metadata": {
        "id": "7838dcc0"
      },
      "source": [
        "**Reasoning**:\n",
        "Create a markdown cell with a level 2 heading \"Conclusion\" and a paragraph summarizing the benefits of NumPy.\n",
        "\n"
      ]
    },
    {
      "cell_type": "code",
      "metadata": {
        "colab": {
          "base_uri": "https://localhost:8080/",
          "height": 194
        },
        "id": "c56deb30",
        "outputId": "2378de68-c674-4f2d-83f0-d01111c6a307"
      },
      "source": [
        "%%markdown\n",
        "## Conclusion\n",
        "\n",
        "NumPy is an indispensable library for numerical computing in Python. Its core `ndarray` object provides a significantly more efficient way to store and manipulate large datasets compared to standard Python lists. NumPy enables array-oriented programming, allowing complex operations to be expressed concisely and executed at high speed thanks to its underlying C implementations. We've explored how to create arrays in various ways, access and modify data using powerful indexing and slicing techniques (including boolean and fancy indexing), manipulate array shapes through reshaping, stacking, splitting, and transposing, and leverage broadcasting for operations on arrays of different shapes. Furthermore, NumPy offers a comprehensive suite of mathematical, logical, statistical, and linear algebra functions, as well as robust capabilities for random number generation and convenient methods for saving and loading array data. These features collectively make NumPy the foundation for much of the scientific and data analysis ecosystem in Python."
      ],
      "execution_count": 31,
      "outputs": [
        {
          "output_type": "display_data",
          "data": {
            "text/plain": [
              "<IPython.core.display.Markdown object>"
            ],
            "text/markdown": "## Conclusion\n\nNumPy is an indispensable library for numerical computing in Python. Its core `ndarray` object provides a significantly more efficient way to store and manipulate large datasets compared to standard Python lists. NumPy enables array-oriented programming, allowing complex operations to be expressed concisely and executed at high speed thanks to its underlying C implementations. We've explored how to create arrays in various ways, access and modify data using powerful indexing and slicing techniques (including boolean and fancy indexing), manipulate array shapes through reshaping, stacking, splitting, and transposing, and leverage broadcasting for operations on arrays of different shapes. Furthermore, NumPy offers a comprehensive suite of mathematical, logical, statistical, and linear algebra functions, as well as robust capabilities for random number generation and convenient methods for saving and loading array data. These features collectively make NumPy the foundation for much of the scientific and data analysis ecosystem in Python.\n"
          },
          "metadata": {}
        }
      ]
    },
    {
      "cell_type": "markdown",
      "metadata": {
        "id": "4b3ebb55"
      },
      "source": [
        "**Reasoning**:\n",
        "Add a markdown cell with a level 3 heading \"Further Resources\" and provide links to learn more about NumPy.\n",
        "\n"
      ]
    },
    {
      "cell_type": "code",
      "metadata": {
        "colab": {
          "base_uri": "https://localhost:8080/",
          "height": 251
        },
        "id": "126e03a5",
        "outputId": "01982187-a567-4775-a1d3-c761ae37962d"
      },
      "source": [
        "%%markdown\n",
        "### Further Resources\n",
        "\n",
        "To continue your journey with NumPy and delve deeper into its capabilities, here are some valuable resources:\n",
        "\n",
        "*   **Official NumPy Documentation:** [https://numpy.org/doc/stable/](https://numpy.org/doc/stable/) - The comprehensive and authoritative source for all things NumPy, including tutorials, reference guides, and advanced topics.\n",
        "*   **NumPy User Guide:** [https://numpy.org/doc/stable/user/index.html](https://numpy.org/doc/stable/user/index.html) - A great place to start after the introductory material, offering more detailed explanations of concepts.\n",
        "*   **SciPy Lecture Notes:** [https://scipy-lectures.org/intro/numpy/index.html](https://scipy-lectures.org/intro/numpy/index.html) - A popular and well-structured tutorial that covers NumPy as part of a broader introduction to the SciPy ecosystem.\n",
        "*   **Books on Python for Data Science:** Many books covering data science in Python dedicate significant sections to NumPy, such as \"Python for Data Analysis\" by Wes McKinney.\n",
        "\n",
        "Exploring these resources will help you master NumPy and effectively apply it to your data science and scientific computing tasks."
      ],
      "execution_count": 32,
      "outputs": [
        {
          "output_type": "display_data",
          "data": {
            "text/plain": [
              "<IPython.core.display.Markdown object>"
            ],
            "text/markdown": "### Further Resources\n\nTo continue your journey with NumPy and delve deeper into its capabilities, here are some valuable resources:\n\n*   **Official NumPy Documentation:** [https://numpy.org/doc/stable/](https://numpy.org/doc/stable/) - The comprehensive and authoritative source for all things NumPy, including tutorials, reference guides, and advanced topics.\n*   **NumPy User Guide:** [https://numpy.org/doc/stable/user/index.html](https://numpy.org/doc/stable/user/index.html) - A great place to start after the introductory material, offering more detailed explanations of concepts.\n*   **SciPy Lecture Notes:** [https://scipy-lectures.org/intro/numpy/index.html](https://scipy-lectures.org/intro/numpy/index.html) - A popular and well-structured tutorial that covers NumPy as part of a broader introduction to the SciPy ecosystem.\n*   **Books on Python for Data Science:** Many books covering data science in Python dedicate significant sections to NumPy, such as \"Python for Data Analysis\" by Wes McKinney.\n\nExploring these resources will help you master NumPy and effectively apply it to your data science and scientific computing tasks.\n"
          },
          "metadata": {}
        }
      ]
    },
    {
      "cell_type": "markdown",
      "metadata": {
        "id": "3158887f"
      },
      "source": [
        "## Summary:\n",
        "\n",
        "### Data Analysis Key Findings\n",
        "\n",
        "*   NumPy's `ndarray` object is the fundamental structure, offering properties like `shape`, `dtype`, `size`, and `ndim` for efficient multi-dimensional array handling.\n",
        "*   Arrays can be created from Python lists and tuples, as well as using built-in functions like `np.zeros()`, `np.ones()`, `np.full()`, `np.arange()`, and `np.linspace()`.\n",
        "*   NumPy supports various indexing and slicing techniques, including integer indexing, standard slicing, boolean indexing (masking), and fancy indexing, for flexible data access and modification.\n",
        "*   Array manipulation functions like `.reshape()`, `np.vstack()`, `np.hstack()`, `np.vsplit()`, `np.hsplit()`, and `.T` (or `np.transpose()`) allow for changing array structure without altering the data.\n",
        "*   Broadcasting enables arithmetic operations between arrays of different shapes by automatically expanding the smaller array to match the larger one based on specific rules.\n",
        "*   NumPy provides a wide range of operations, including element-wise arithmetic, comparison, logical operations, and aggregate functions (e.g., `sum`, `mean`, `min`, `max`, `std`) which can be applied globally or along specified axes.\n",
        "*   The `numpy.linalg` module facilitates key linear algebra operations such as matrix multiplication (`@`, `np.dot`, `np.matmul`), determinant (`np.linalg.det`), inverse (`np.linalg.inv`), eigenvalues/eigenvectors (`np.linalg.eig`), and solving linear systems (`np.linalg.solve`).\n",
        "*   Random number generation is handled by the `numpy.random` module, offering functions for various distributions (`np.random.rand`, `np.random.randn`, `np.random.randint`, `np.random.random`), sampling (`np.random.choice`), and shuffling (`np.random.shuffle`).\n",
        "*   NumPy arrays can be easily saved to and loaded from disk using `.npy` format for single arrays (`np.save`, `np.load`) and `.npz` format for multiple arrays (`np.savez`, `np.savez_compressed`, `np.load`).\n",
        "*   Advanced concepts like Universal Functions (ufuncs) provide fast, element-wise operations, while Structured Arrays allow for heterogeneous data types within a single array, useful for tabular data.\n",
        "\n",
        "### Insights or Next Steps\n",
        "\n",
        "*   The completed notebook provides a solid foundation for understanding NumPy's core capabilities.\n",
        "*   Future steps could involve adding more complex examples for advanced concepts like ufuncs (e.g., `reduce`, `accumulate`, `outer`) and structured arrays (e.g., more complex dtypes, saving/loading structured arrays), or introducing performance comparison examples (e.g., NumPy vs. Python lists for large operations).\n"
      ]
    },
    {
      "cell_type": "markdown",
      "metadata": {
        "id": "72d805e4"
      },
      "source": [
        "# Author: Saher Qaid\n",
        "\n",
        "**Contact Information:**\n",
        "*   **Location:** Ibb, Yemen\n",
        "*   **Email:** saherqaid2020@gmail.com\n",
        "*   **Phone:** +967712238264\n",
        "*   **Website:** [saherqaid.com](saherqaid.com)\n",
        "*   **LinkedIn:** [linkedin.com/in/saher-qaid-470735261/](linkedin.com/in/saher-qaid-470735261/)\n",
        "*   **GitHub:** [github.com/Qaidsaher](github.com/Qaidsaher)"
      ]
    }
  ]
}